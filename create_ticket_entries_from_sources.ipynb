{
 "cells": [
  {
   "cell_type": "markdown",
   "metadata": {},
   "source": [
    "# Setup"
   ]
  },
  {
   "cell_type": "markdown",
   "metadata": {},
   "source": [
    "## Imports"
   ]
  },
  {
   "cell_type": "code",
   "execution_count": null,
   "metadata": {
    "dotnet_interactive": {
     "language": "pwsh"
    },
    "polyglot_notebook": {
     "kernelName": "pwsh"
    },
    "vscode": {
     "languageId": "polyglot-notebook"
    }
   },
   "outputs": [],
   "source": [
    "# Install-Module -Name DattoRMM -Force -AllowClobber -Verbose\n",
    "# Install-Module Microsoft.Graph.Calendar -Force -AllowClobber\n",
    "# Install-Module Microsoft.Graph.Authentication -Force -AllowClobber\n",
    "# Install-Module Microsoft.Graph.Mail -Force -AllowClobber\n",
    "# Install-Module Microsoft.Graph.Teams -Force -AllowClobber\n",
    "# Install-Module Microsoft.Graph.Users -Force -AllowClobber\n",
    "# Install-Module PowerHTML -Force -AllowClobber\n",
    "# Install-Module Pode -Force -AllowClobber\n",
    "# Install-Module Pode.Web -Force -AllowClobber\n",
    "# $HtmlAgilityPack = \"C:\\Users\\David\\OneDrive - Avartec Inc\\Documents\\Clients\\Avartec\\nuget\\lib\\Net45\\HtmlAgilityPack.dll\"\n",
    "# Add-Type -Path $HtmlAgilityPack\n",
    "# Install-Package Newtonsoft.Json -Force -AllowClobber\n",
    "\n",
    "\n",
    ". \".\\Powershell\\Get-StoredObject.ps1\"\n",
    ". \".\\Powershell\\Get-StoredCredential.ps1\"\n",
    "Import-Module DattoRMM\n",
    "Import-Module Microsoft.Graph.Authentication\n",
    "Import-Module Microsoft.Graph.Calendar\n",
    "Import-Module Microsoft.Graph.Mail\n",
    "Import-Module Microsoft.Graph.Teams\n",
    "Import-Module Microsoft.Graph.Users\n",
    "Add-Type -AssemblyName System.Web\n",
    "Import-Module PowerHTML\n",
    "Add-Type -AssemblyName Newtonsoft.Json\n",
    "\n",
    "Connect-MgGraph -Scopes \"Mail.Read\", \"MailboxFolder.Read\", \"MailboxItem.Read\", \"Mail.ReadBasic\", \"MailboxSettings.Read\", \"Calendars.Read\", \"Chat.ReadBasic\", \"Chat.Read\", \"ChatMessage.Read\", \"TeamsAppInstallation.ReadForChat\", \"Channel.ReadBasic.All\", \"Team.ReadBasic.All\", \"TeamsActivity.Read\", \"Files.Read\", \"Files.Read.All\" -NoWelcome\n"
   ]
  },
  {
   "cell_type": "markdown",
   "metadata": {},
   "source": [
    "## Variables"
   ]
  },
  {
   "cell_type": "code",
   "execution_count": null,
   "metadata": {
    "dotnet_interactive": {
     "language": "pwsh"
    },
    "polyglot_notebook": {
     "kernelName": "pwsh"
    },
    "vscode": {
     "languageId": "polyglot-notebook"
    }
   },
   "outputs": [],
   "source": [
    "# ### Microsoft\n",
    "# $userId = \"david@avartec.com\"\n",
    "# $userDisplayName = \"David Midlo\"\n",
    "# $tenantId = \"\"\n",
    "\n",
    "# $graphCreds = Get-StoredCredential -CredentialName \"MicrosoftGraph\" -Path \".\\StoredCredentials\"\n",
    "# Connect-MgGraph -Scopes \"Mail.Read\", \"MailboxFolder.Read\", \"MailboxItem.Read\", \"Mail.ReadBasic\", \"MailboxSettings.Read\", \"Calendars.Read\", \"Chat.ReadBasic\", \"Chat.Read\", \"ChatMessage.Read\", \"TeamsAppInstallation.ReadForChat\", \"Channel.ReadBasic.All\", \"Team.ReadBasic.All\", \"TeamsActivity.Read\", \"Files.Read\", \"Files.Read.All\" -NoWelcome\n",
    "\n",
    "# $msGraphUser = Get-MgUser -UserId $userId\n",
    "\n",
    "\n",
    "# $sentItemsFolder = Get-MgUserMailFolder -UserId $userId -MailFolderId \"sentitems\"\n"
   ]
  },
  {
   "cell_type": "markdown",
   "metadata": {},
   "source": [
    "### Get Date Ranges for API Throttling - Each Day"
   ]
  },
  {
   "cell_type": "code",
   "execution_count": 34,
   "metadata": {
    "dotnet_interactive": {
     "language": "pwsh"
    },
    "polyglot_notebook": {
     "kernelName": "pwsh"
    },
    "vscode": {
     "languageId": "polyglot-notebook"
    }
   },
   "outputs": [],
   "source": [
    "function Get-SortedDateRanges {\n",
    "    param (\n",
    "        [Parameter(Mandatory = $true)]\n",
    "        $startDateTime,\n",
    "        \n",
    "        [Parameter(Mandatory = $true)]\n",
    "        $endDateTime\n",
    "    )\n",
    "    # Initialize an empty hashtable for date ranges\n",
    "    $dateRanges = @{}\n",
    "\n",
    "    # Initialize a counter to label each block\n",
    "    $blockCounter = 1\n",
    "\n",
    "    # Iterate through the date range in four-hour increments\n",
    "    $currentBlockStart = $startDateTime\n",
    "    while ($currentBlockStart -lt $endDateTime) {\n",
    "        # Define the end time for the current block as four hours later\n",
    "        $currentBlockEnd = $currentBlockStart.AddHours(24)\n",
    "\n",
    "        # If the end of the block exceeds the end date, cap it at endDateTime\n",
    "        if ($currentBlockEnd -gt $endDateTime) {\n",
    "            $currentBlockEnd = $endDateTime\n",
    "        }\n",
    "\n",
    "        # Pad the blockCounter with leading zeros to 5 digits\n",
    "        $blockLabel = \"block\" + $blockCounter.ToString().PadLeft(5, '0')\n",
    "\n",
    "        # Add the start and end time to the dateRanges hashtable\n",
    "        $dateRanges[$blockLabel] = @{\n",
    "            StartTime = $currentBlockStart\n",
    "            EndTime   = $currentBlockEnd\n",
    "        }\n",
    "\n",
    "        # Move to the next block\n",
    "        $currentBlockStart = $currentBlockEnd\n",
    "        $blockCounter++\n",
    "    }\n",
    "\n",
    "    # Display the result\n",
    "    # Convert the hashtable to an ordered dictionary to maintain the sort order\n",
    "    $sortedDateRanges = [ordered]@{}\n",
    "\n",
    "    # Sort by the block name and populate the ordered dictionary\n",
    "    foreach ($key in ($dateRanges.Keys | Sort-Object)) {\n",
    "        $sortedDateRanges[$key] = $dateRanges[$key]\n",
    "    }\n",
    "\n",
    "    return $sortedDateRanges\n",
    "}\n"
   ]
  },
  {
   "cell_type": "markdown",
   "metadata": {},
   "source": [
    "# Services Data Cleaning"
   ]
  },
  {
   "cell_type": "markdown",
   "metadata": {},
   "source": [
    "## ActivityWatch"
   ]
  },
  {
   "cell_type": "markdown",
   "metadata": {},
   "source": [
    "### Import Activity Watch CSVs into Object"
   ]
  },
  {
   "cell_type": "code",
   "execution_count": 35,
   "metadata": {
    "dotnet_interactive": {
     "language": "pwsh"
    },
    "polyglot_notebook": {
     "kernelName": "pwsh"
    },
    "vscode": {
     "languageId": "polyglot-notebook"
    }
   },
   "outputs": [],
   "source": [
    "function Get-DirectoryCSVs {\n",
    "    param (\n",
    "        [Parameter(Mandatory = $true)]\n",
    "        $directoryPath\n",
    "    )\n",
    "\n",
    "    return (Get-ChildItem -Path $directoryPath -Filter *.csv)\n",
    "}\n",
    "\n",
    "function Import-CSVsIntoObject {\n",
    "    param (\n",
    "        [Parameter(Mandatory = $true)]\n",
    "        $fileBlob\n",
    "    )\n",
    "\n",
    "    $csvObjects = @()\n",
    "    foreach ($file in $fileBlob) {\n",
    "        $csvContent = Import-Csv -Path $file.FullName\n",
    "\n",
    "        $csvObject = [PSCustomObject]@{\n",
    "            FileName = $file.Name\n",
    "            FilePath = $file.FullName\n",
    "            FileContent = $csvContent\n",
    "        }\n",
    "        $csvObjects += $csvObject\n",
    "    }\n",
    "    return $csvObjects\n",
    "}\n",
    "\n",
    "function Import-ActivityWatchCSVs {\n",
    "    param (\n",
    "        [Parameter(Mandatory = $true)]\n",
    "        $activitywatchDirectory\n",
    "    )\n",
    "\n",
    "    $ActivityWatchCSVs = Get-DirectoryCSVs -directoryPath $activitywatchDirectory\n",
    "    \n",
    "    return (Import-CSVsIntoObject -fileBlob $ActivityWatchCSVs)\n",
    "}\n"
   ]
  },
  {
   "cell_type": "markdown",
   "metadata": {},
   "source": [
    "### Fixing Obsidian Watcher CSV"
   ]
  },
  {
   "cell_type": "code",
   "execution_count": 36,
   "metadata": {
    "dotnet_interactive": {
     "language": "pwsh"
    },
    "polyglot_notebook": {
     "kernelName": "pwsh"
    },
    "vscode": {
     "languageId": "polyglot-notebook"
    }
   },
   "outputs": [],
   "source": [
    "function Consolodate-ActivityWatchObsidianEvents {\n",
    "    param (\n",
    "        [Parameter(Mandatory = $true)]\n",
    "        $obsidianCsv\n",
    "    )\n",
    "\n",
    "    $processedRows = @()\n",
    "    $sortedCSV = $obsidianCsv | Sort-Object {[datetime]$_.\"timestamp\"}\n",
    "    $currentBlock = $null  # To keep track of the current block\n",
    "\n",
    "    foreach ($row in $sortedCSV) {\n",
    "        # Parse the timestamp\n",
    "        $currentTimestamp = [datetime]::Parse($row.timestamp)\n",
    "\n",
    "        if ($currentBlock -eq $null) {\n",
    "            # Start a new block\n",
    "            $currentBlock = @{\n",
    "                StartRow = $row\n",
    "                EndRow = $row\n",
    "                Duration = 0\n",
    "                StartTimestamp = $currentTimestamp\n",
    "                EndTimestamp = $currentTimestamp\n",
    "            }\n",
    "        } else {\n",
    "            # Check if the current row matches the current block\n",
    "            $isSameSession =    ($row.file -eq $currentBlock.EndRow.file) -and\n",
    "                                ($row.project -eq $currentBlock.EndRow.project) -and\n",
    "                                ($row.language -eq $currentBlock.EndRow.language) -and\n",
    "                                ($row.projectPath -eq $currentBlock.EndRow.projectPath) -and\n",
    "                                ($row.editor -eq $currentBlock.EndRow.editor) -and\n",
    "                                ($row.editorVersion -eq $currentBlock.EndRow.editorVersion) -and\n",
    "                                ($row.eventType -eq $currentBlock.EndRow.eventType)\n",
    "\n",
    "            if ($isSameSession) {\n",
    "                # Update the current block\n",
    "                $timeDifference = $currentTimestamp - $currentBlock.EndTimestamp\n",
    "                $currentBlock.Duration += $timeDifference.TotalSeconds\n",
    "                $currentBlock.EndRow = $row\n",
    "                $currentBlock.EndTimestamp = $currentTimestamp\n",
    "            } else {\n",
    "                # Finalize the current block and add to processed rows\n",
    "                $summarizedRow = $currentBlock.StartRow.PSObject.Copy()\n",
    "                $summarizedRow.timestamp = $currentBlock.StartTimestamp.ToString(\"o\")\n",
    "                $summarizedRow.Duration = $currentBlock.Duration\n",
    "                $processedRows += $summarizedRow\n",
    "\n",
    "                # Start a new block\n",
    "                $currentBlock = @{\n",
    "                    StartRow = $row\n",
    "                    EndRow = $row\n",
    "                    Duration = 0\n",
    "                    StartTimestamp = $currentTimestamp\n",
    "                    EndTimestamp = $currentTimestamp\n",
    "                }\n",
    "            }\n",
    "        }\n",
    "    }\n",
    "\n",
    "    # After processing all rows, don't forget to add the last block\n",
    "    if ($currentBlock -ne $null) {\n",
    "        $summarizedRow = $currentBlock.StartRow.PSObject.Copy()\n",
    "        $summarizedRow.timestamp = $currentBlock.StartTimestamp.ToString(\"o\")\n",
    "        $summarizedRow.Duration = $currentBlock.Duration\n",
    "        $processedRows += $summarizedRow\n",
    "    }\n",
    "\n",
    "    return ($processedRows | Where-Object {$_.duration -gt 0})\n",
    "}\n",
    "\n",
    "function Repair-ChildActivityWatchObsidianCSV {\n",
    "    param (\n",
    "        [Parameter(Mandatory = $true)]\n",
    "        $csvObjects\n",
    "    )\n",
    "\n",
    "    foreach ($csvObject in $csvObjects) {\n",
    "        if ($csvObject.FileName -like \"*obsidian*\") {\n",
    "            $csvObject.FileContent = Consolodate-ActivityWatchObsidianEvents -obsidianCsv $csvObject.FileContent\n",
    "        }\n",
    "    }\n",
    "\n",
    "    return $csvObjects\n",
    "}\n"
   ]
  },
  {
   "cell_type": "markdown",
   "metadata": {},
   "source": [
    "### Applying ActivityWatch AFK data"
   ]
  },
  {
   "cell_type": "code",
   "execution_count": 37,
   "metadata": {
    "dotnet_interactive": {
     "language": "pwsh"
    },
    "polyglot_notebook": {
     "kernelName": "pwsh"
    },
    "vscode": {
     "languageId": "polyglot-notebook"
    }
   },
   "outputs": [],
   "source": [
    "function Import-ActivityWatchAFKs {\n",
    "    param (\n",
    "        [Parameter(Mandatory = $true)]\n",
    "        $activitywatchAfkDirectory\n",
    "    )\n",
    "\n",
    "    $AfkCSVs = Get-DirectoryCSVs -directoryPath $activitywatchAfkDirectory\n",
    "\n",
    "    return {Import-CSVsIntoObject -fileBlob $AfkCSVs}\n",
    "}\n"
   ]
  },
  {
   "cell_type": "code",
   "execution_count": 38,
   "metadata": {
    "dotnet_interactive": {
     "language": "pwsh"
    },
    "polyglot_notebook": {
     "kernelName": "pwsh"
    },
    "vscode": {
     "languageId": "polyglot-notebook"
    }
   },
   "outputs": [],
   "source": [
    "function Filter-ActivityWatchByAfkStatus {\n",
    "    param (\n",
    "        [Parameter(Mandatory = $true)]\n",
    "        $activityWatchCSVsObject,\n",
    "\n",
    "        [Parameter(Mandatory = $true)]\n",
    "        $storeObjectPath,\n",
    "\n",
    "        [Parameter(Mandatory = $true)]\n",
    "        $afkCSVsDirectory\n",
    "    )\n",
    "\n",
    "    $object = Get-StoredObject -ObjectName \"afkFilteredActivityWatch\" -Path $storeObjectPath\n",
    "\n",
    "    if ($object) {\n",
    "        $csvObjects = $object\n",
    "    } else {\n",
    "        $csvObjects = $activityWatchCSVsObject\n",
    "        $afkObjects = Import-ActivityWatchAFKs -activitywatchAfkDirectory $afkCSVsDirectory\n",
    "\n",
    "        foreach ($csvObject in $csvObjects){\n",
    "\n",
    "            $filteredContent = @()\n",
    "            foreach ($csvEvent in $csvObject.FileContent) {\n",
    "                $count++\n",
    "                $csvStartTime = [DateTime]::Parse($csvEvent.timestamp)\n",
    "                $csvDuration = New-TimeSpan -Seconds ([int]([Math]::Ceiling($csvEvent.duration)))\n",
    "                $csvEndTime = $csvStartTime + $csvDuration\n",
    "                $eventOverlap = $false\n",
    "\n",
    "                foreach ($file in $afkObjects) {\n",
    "                    $afkCsv = $file.FileContent\n",
    "                    $Afk = $afkCsv | Where-Object {$_.status -like \"afk\"}\n",
    "\n",
    "\n",
    "                    foreach ($afkEvent in $Afk){\n",
    "                        $afkStartTime = [DateTime]::Parse($afkEvent.timestamp)\n",
    "                        $afkDuration = New-TimeSpan -Seconds ([int]([Math]::Ceiling($afkEvent.duration)))\n",
    "                        $afkEndTime = $afkStartTime + $afkDuration\n",
    "\n",
    "                        if ($csvStartTime -le $afkStartTime -and $csvEndTime -ge $afkEndTime) {\n",
    "                            # csv: |-------------|\n",
    "                            # afk:   |---------|\n",
    "                            $eventOverlap = $true\n",
    "                            # Write-Host \"Full overlap: CSV interval fully contains AFK interval. Creating two entries\"\n",
    "                            # Write-Host \"cs: $csvStartTime as: $afkStartTime ae: $afkEndTime ce: $csvEndTime\"\n",
    "                            # Write-Host \"-------------------------------------\"\n",
    "\n",
    "                            $frontEvent = $csvEvent.PSObject.Copy()\n",
    "                            $frontEventStartTime = $csvStartTime\n",
    "                            $frontEventEndTime = $afkStartTime.AddSeconds(-1)\n",
    "                            $frontEvent.duration = ($frontEventEndTime - $frontEventStartTime).TotalSeconds\n",
    "                            $frontEvent.timestamp = $frontEventStartTime.ToString(\"yyyy-MM-ddTHH:mm:ss.fffK\")\n",
    "                            $filteredContent += $frontEvent\n",
    "\n",
    "                            $backEvent = $csvEvent.PSObject.Copy()\n",
    "                            $backEventStartTime = $afkEndTime.AddSeconds(1)\n",
    "                            $backEventEndTime = $csvEndTime\n",
    "                            $backEvent.duration = ($backEventEndTime - $backEventStartTime).TotalSeconds\n",
    "                            $backEvent.timestamp = $backEventStartTime.ToString(\"yyyy-MM-ddTHH:mm:ss.fffK\")\n",
    "                            $filteredContent += $backEvent\n",
    "\n",
    "                            break\n",
    "                        }\n",
    "                        elseif ($afkStartTime -le $csvStartTime -and $afkEndTime -ge $csvEndTime) {\n",
    "                            # csv:   |---------|\n",
    "                            # afk: |-------------|\n",
    "                            $eventOverlap = $true\n",
    "                            # Write-Host \"Full overlap: AFK interval fully contains CSV interval. Removing Entry\"\n",
    "                            # Write-Host \"as: $afkStartTime cs: $csvStartTime ce: $csvEndTime ae: $afkEndTime\"\n",
    "                            # Write-Host \"-------------------------------------\"\n",
    "                            break\n",
    "                        }\n",
    "                        elseif ($csvStartTime -le $afkStartTime -and $csvEndTime -ge $afkStartTime -and $csvEndTime -le $afkEndTime) {\n",
    "                            # csv: |---------|\n",
    "                            # afk:     |---------|\n",
    "                            $eventOverlap = $true\n",
    "                            # Write-Host \"Partial overlap at start. Trimming Entry\"\n",
    "                            # Write-Host \"cs: $csvStartTime as: $afkStartTime ce: $csvEndTime ae: $afkEndTime\"\n",
    "                            # Write-Host \"-------------------------------------\"\n",
    "\n",
    "                            $frontEvent = $csvEvent.PSObject.Copy()\n",
    "                            $frontEventStartTime = $csvStartTime\n",
    "                            $frontEventEndTime = $afkStartTime.AddSeconds(-1)\n",
    "                            $frontEvent.duration = ($frontEventEndTime - $frontEventStartTime).TotalSeconds\n",
    "                            $frontEvent.timestamp = $frontEventStartTime.ToString(\"yyyy-MM-ddTHH:mm:ss.fffK\")\n",
    "                            $filteredContent += $frontEvent\n",
    "                            break\n",
    "                        }\n",
    "                        elseif ($csvStartTime -ge $afkStartTime -and $csvStartTime -le $afkEndTime -and $csvEndTime -ge $afkEndTime) {\n",
    "                            # csv:     |---------|\n",
    "                            # afk: |---------|\n",
    "                            $eventOverlap = $true\n",
    "                            # Write-Host \"Partial overlap at end. Trimming Entry\"\n",
    "                            # Write-Host \"as: $afkStartTime cs:$csvStartTime ae: $afkEndTime ce: $csvEndTime\"\n",
    "                            # Write-Host \"-------------------------------------\"\n",
    "\n",
    "                            $backEvent = $csvEvent.PSObject.Copy()\n",
    "                            $backEventStartTime = $afkEndTime.AddSeconds(1)\n",
    "                            $backEventEndTime = $csvEndTime\n",
    "                            $backEvent.duration = ($backEventEndTime - $backEventStartTime).TotalSeconds\n",
    "                            $backEvent.timestamp = $backEventStartTime.ToString(\"yyyy-MM-ddTHH:mm:ss.fffK\")\n",
    "                            $filteredContent += $backEvent\n",
    "                            break\n",
    "                        }\n",
    "                        else {}\n",
    "\n",
    "                    }\n",
    "                }\n",
    "\n",
    "                if (-not $eventOverlap) {\n",
    "                    $filteredContent += $csvEvent\n",
    "                }\n",
    "            }\n",
    "            $csvObject.FileContent = $filteredContent\n",
    "        }\n",
    "\n",
    "        Get-StoredObject -ObjectName \"afkFilteredActivityWatch\" -Path $storeObjectPath -InputObject $csvObjects\n",
    "    }\n",
    "\n",
    "    return $csvObjects\n",
    "}\n"
   ]
  },
  {
   "cell_type": "markdown",
   "metadata": {},
   "source": [
    "## Datto"
   ]
  },
  {
   "cell_type": "markdown",
   "metadata": {},
   "source": [
    "### Get Datto Activity Logs"
   ]
  },
  {
   "cell_type": "code",
   "execution_count": 39,
   "metadata": {
    "dotnet_interactive": {
     "language": "pwsh"
    },
    "polyglot_notebook": {
     "kernelName": "pwsh"
    },
    "vscode": {
     "languageId": "polyglot-notebook"
    }
   },
   "outputs": [],
   "source": [
    "function Get-DattoRemoteActivityLog {\n",
    "    param (\n",
    "        [Parameter(Mandatory = $true)]\n",
    "        [DateTime]$startDateTime,\n",
    "\n",
    "        [Parameter(Mandatory = $true)]\n",
    "        [DateTime]$endDateTime,\n",
    "\n",
    "        [Parameter(Mandatory = $true)]\n",
    "        $dattoUserId,\n",
    "\n",
    "        [Parameter(Mandatory = $true)]\n",
    "        $storedObjectPath\n",
    "    )\n",
    "\n",
    "    $objectName = \"$dattoUserId-$($startDateTime.ToString(\"yyyyMMdd'T'HHmmssK\"))-to-$($endDateTime.ToString(\"yyyyMMdd'T'HHmmssK\"))-datto\"\n",
    "\n",
    "    $storedLogs = Get-StoredObject -ObjectName $objectName -Path $storedObjectPath\n",
    "\n",
    "    if ($storedLogs) {\n",
    "        $dattoActivityLogs = $storedLogs\n",
    "    } else {\n",
    "\n",
    "        $dattoActivityLogs = $null\n",
    "        $dattoActivityLogs = @()\n",
    "\n",
    "        $logRequest = Get-DrmmActivityLogs -StartDateTime $startDateTime -EndDateTime $endDateTime -Categories \"remote\" -UserIds $dattoUserId \n",
    "        foreach ($entry in $logRequest) {\n",
    "            $entryCount++\n",
    "            $entryStartTime = $entry.details.'remote_session.start_date'\n",
    "            $entryEndTime = $entry.details.'remote_session.end_date'\n",
    "            $duration = ($entryEndTime - $entryStartTime).TotalSeconds\n",
    "            \n",
    "            $log = @{\n",
    "                timestamp = $entryStartTime.ToString(\"yyyy-MM-ddTHH:mm:ss.fffZ\")\n",
    "                duration = $duration\n",
    "                category = $entry.category\n",
    "                siteName = $entry.siteName\n",
    "                hostname = $entry.details.'device.hostname'\n",
    "                action = $entry.details.'event.action'\n",
    "                sessionType = $entry.details.'remote_session.type'\n",
    "            }\n",
    "\n",
    "            $dattoActivityLogs += $log\n",
    "\n",
    "            Start-Sleep -Seconds 1\n",
    "        }\n",
    "\n",
    "        if ($dattoActivityLogs -ne $null) {\n",
    "            Get-StoredObject -ObjectName $objectName -Path $storedObjectPath -InputObject $dattoActivityLogs | Out-Null\n",
    "        }\n",
    "    }\n",
    "    return $dattoActivityLogs\n",
    "}\n",
    "\n",
    "function Get-DattoRemoteActivityCsvObject {\n",
    "    param (\n",
    "        [Parameter(Mandatory = $true)]\n",
    "        [DateTime]$startDateTime,\n",
    "\n",
    "        [Parameter(Mandatory = $true)]\n",
    "        [DateTime]$endDateTime,\n",
    "\n",
    "        [Parameter(Mandatory = $true)]\n",
    "        $dattoUserId,\n",
    "\n",
    "        [Parameter(Mandatory = $true)]\n",
    "        $storedObjectPath\n",
    "    )\n",
    "\n",
    "    $objectName = \"$dattoUserId-$($startDateTime.ToString(\"yyyyMMdd'T'HHmmssK\"))-to-$($endDateTime.ToString(\"yyyyMMdd'T'HHmmssK\"))-datto\"\n",
    "    $dattoActivityLog = Get-DattoRemoteActivityLog -startDateTime $startDateTime -endDateTime $endDateTime -dattoUserId $dattoUserId -storedObjectPath $storedObjectPath\n",
    "\n",
    "    if ($dattoActivityLog -ne $null) {\n",
    "        $csvObject = [PSCustomObject]@{\n",
    "            FileName = $objectName\n",
    "            FilePath = $objectName\n",
    "            FileContent = ($dattoActivityLog | ConvertTo-Csv) | ConvertFrom-Csv -ErrorAction SilentlyContinue\n",
    "        }\n",
    "\n",
    "        return $csvObject\n",
    "    } else {\n",
    "        return $false\n",
    "    }\n",
    "}\n",
    "\n",
    "function Add-DattoRemoteActivityCSVs {\n",
    "    param (\n",
    "        [Parameter(Mandatory = $true)]\n",
    "        $dattoUserId,\n",
    "\n",
    "        [Parameter(Mandatory = $true)]\n",
    "        $storedObjectPath,\n",
    "\n",
    "        [Parameter(Mandatory = $true)]\n",
    "        $csvObjects,\n",
    "\n",
    "        [Parameter(Mandatory = $true)]\n",
    "        $dateRangesObject\n",
    "    )\n",
    "\n",
    "    $dattoUrl = \"https://concord-api.centrastage.net\"\n",
    "    $dattoCreds = Get-StoredCredential -CredentialName \"DattoRMM\" -Path \".\\StoredCredentials\"\n",
    "    Set-DrmmApiParameters -Url $dattoUrl -Credential $dattoCreds\n",
    "\n",
    "    foreach ($range in $dateRangesObject.GetEnumerator()) {\n",
    "        \n",
    "        $csvObject = Get-DattoRemoteActivityCsvObject -startDateTime $range.Value.StartTime -endDateTime $range.Value.EndTime -dattoUserId $dattoUserId -storedObjectPath $storedObjectPath\n",
    "        \n",
    "        if ($csvObject) {\n",
    "            $csvObjects += $csvObject\n",
    "        }\n",
    "\n",
    "    }\n",
    "\n",
    "    return $csvObjects\n",
    "}\n"
   ]
  },
  {
   "cell_type": "markdown",
   "metadata": {},
   "source": [
    "## Office Online Calendar"
   ]
  },
  {
   "cell_type": "markdown",
   "metadata": {},
   "source": [
    "### Get Calendar Events from Office Online"
   ]
  },
  {
   "cell_type": "code",
   "execution_count": 40,
   "metadata": {
    "dotnet_interactive": {
     "language": "pwsh"
    },
    "polyglot_notebook": {
     "kernelName": "pwsh"
    },
    "vscode": {
     "languageId": "polyglot-notebook"
    }
   },
   "outputs": [],
   "source": [
    "function Get-OfficeOnlineCalendarEvents {\n",
    "    param (\n",
    "        [Parameter(Mandatory = $true)]\n",
    "        $storedObjectPath,\n",
    "\n",
    "        [Parameter(Mandatory = $true)]\n",
    "        $dateRangesObject,\n",
    "\n",
    "        [Parameter(Mandatory = $true)]\n",
    "        $userId\n",
    "    )\n",
    "    $jobs = @()\n",
    "\n",
    "    $object = Get-StoredObject -ObjectName \"MicrosoftCalendarEventIds\" -Path $storedObjectPath\n",
    "\n",
    "    if ($object) {\n",
    "        $allResults = $object\n",
    "    } else {\n",
    "        $defaultCalendar = Get-MgUserCalendar -UserId $userId | Where-Object { $_.Name -eq \"Calendar\" } | Select-Object -First 1\n",
    "\n",
    "        foreach ($range in $dateRangesObject.GetEnumerator()) {\n",
    "            $jobs += Start-ThreadJob -ScriptBlock {\n",
    "                param($startTime, $endTime, $userId, $defaultCalendar)\n",
    "\n",
    "                function Get-CalendarEvents {\n",
    "                    param($startTime, $endTime, $UserId)\n",
    "                    try {\n",
    "                        $Events = Get-MgUserCalendarEvent -UserId $UserId -Filter \"start/dateTime ge '$startTime' and end/dateTime le '$endTime'\" -CalendarId $defaultCalendar.Id\n",
    "                        return $Events\n",
    "                    } catch {\n",
    "                        Write-Output \"Error retrieving events for $startTime to $($endTime): $($_)\"\n",
    "                        return $null\n",
    "                    }\n",
    "                }\n",
    "\n",
    "                Get-CalendarEvents -startTime $startTime -endTime $endTime -UserId $UserId\n",
    "            } -ArgumentList $range.Value.StartTime, $range.Value.EndTime, $userId, $defaultCalendar\n",
    "        }\n",
    "\n",
    "        $allResults = @()\n",
    "        foreach ($job in $jobs) {\n",
    "            $result = Receive-Job -Job $job -Wait -ErrorAction SilentlyContinue\n",
    "            if ($result) {\n",
    "                $allResults += $result\n",
    "            }\n",
    "            Remove-Job -Job $job\n",
    "        }\n",
    "\n",
    "        Get-StoredObject -ObjectName \"MicrosoftCalendarEventIds\" -Path $storedObjectPath -InputObject $allResults\n",
    "    }\n",
    "\n",
    "    return $allResults\n",
    "}\n"
   ]
  },
  {
   "cell_type": "markdown",
   "metadata": {},
   "source": [
    "### Convert Office 365 Calendar Events"
   ]
  },
  {
   "cell_type": "code",
   "execution_count": 41,
   "metadata": {
    "dotnet_interactive": {
     "language": "pwsh"
    },
    "polyglot_notebook": {
     "kernelName": "pwsh"
    },
    "vscode": {
     "languageId": "polyglot-notebook"
    }
   },
   "outputs": [],
   "source": [
    "function Convert-OfficeOnlineCalendarEvents {\n",
    "    param (\n",
    "        [Parameter(Mandatory = $true)]\n",
    "        $startDateTime,\n",
    "\n",
    "        [Parameter(Mandatory = $true)]\n",
    "        $endDateTime,\n",
    "\n",
    "        [Parameter(Mandatory = $true)]\n",
    "        $csvObjects,\n",
    "\n",
    "        [Parameter(Mandatory = $true)]\n",
    "        $storedObjectPath,\n",
    "\n",
    "        [Parameter(Mandatory = $true)]\n",
    "        $dateRangesObject,\n",
    "\n",
    "        [Parameter(Mandatory = $true)]\n",
    "        $userId\n",
    "    )\n",
    "\n",
    "    $objectName = \"$userId-$($startDateTime.ToString(\"yyyyMMdd'T'HHmmssK\"))-to-$($endDateTime.ToString(\"yyyyMMdd'T'HHmmssK\"))-MicrosoftOnlineCalendar\"\n",
    "\n",
    "    $allResults = Get-OfficeOnlineCalendarEvents -storedObjectPath $storedObjectPath -dateRangesObject $dateRangesObject -userId $userId\n",
    "\n",
    "    $calendarEventLogs = @()\n",
    "    foreach ($row in $allResults) {\n",
    "        [datetime]$calendarStartDateTime = [string]$row.Start.Datetime\n",
    "        [datetime]$calendarEndDateTime = [string]$row.End.Datetime\n",
    "\n",
    "        $body = [System.Web.HttpUtility]::HtmlDecode(($row.Body | ConvertFrom-Html).InnerText)\n",
    "        $importance = $row.Importance\n",
    "        $isAllDay = $row.IsAllDay\n",
    "        $isDraft = $row.IsDraft\n",
    "        $isOnlineMeeting = $row.IsOnlineMeeting\n",
    "        $isOrganizer = $row.IsOrganizer\n",
    "        $onlineMeetingProvider = $row.OnlineMeetingProvider\n",
    "        $onlineMeetingUrl = $row.OnlineMeetingUrl\n",
    "        $organizer = \"$($row.Organizer.EmailAddress.Name) - $($row.Organizer.EmailAddress.Address)\"\n",
    "        $subject = $row.Subject\n",
    "        $weblink = $row.WebLink\n",
    "\n",
    "        $onlineMeeting = \"\"\n",
    "        $onlineMeetingHeaders = $row.OnlineMeeting | Get-Member -MemberType Property | Where-Object {$_.Name -notin @(\"AdditionalProperties\")} | Select-Object -ExpandProperty Name \n",
    "        foreach ($onlineMeetingHeader in $onlineMeetingHeaders){\n",
    "            $onlineMeeting += \"$onlineMeetingHeader $($row.OnlineMeeting.$onlineMeetingHeader), \"\n",
    "        }\n",
    "        $onlineMeeting = $onlineMeeting.TrimEnd(\", \")\n",
    "\n",
    "        $location = \"\"\n",
    "        $locationHeaders = $row.Location | Get-Member -MemberType Property |  Where-Object {$_.Name -notin @(\"AdditionalProperties\", \"UniqueId\", \"UniqueIdType\")} | Select-Object -ExpandProperty Name \n",
    "        foreach ($locationHeader in $locationHeaders) {\n",
    "            if ($row.Location.$locationHeader -ne $null) {\n",
    "\n",
    "                switch(($row.Location.$locationHeader.GetType()).Name) {\n",
    "                    \"PSObject\" {\n",
    "                        $objectHeaders = $row.Location.$locationHeader | Get-Member -MemberType Property | Where-Object {$_.Name -notin @(\"AdditionalProperties\", \"Accuracy\", \"Altitude\", \"AltitudeAccuracy\")} | Select-Object -ExpandProperty Name\n",
    "                        foreach ($objectHeader in $objectHeaders){\n",
    "                            $location += \"$objectHeader - $($row.Location.$locationHeader.$objectHeader), \"\n",
    "                        }\n",
    "                    }\n",
    "                    \"String\" {\n",
    "                        $location += \"$($row.Location.$locationHeader), \"\n",
    "                    }\n",
    "                }\n",
    "            } \n",
    "        }\n",
    "        $location = $location.TrimEnd(\", \")\n",
    "\n",
    "        $attendees = \"\"\n",
    "        foreach ($row in $row.Attendees) {\n",
    "            $attendeeName = $row.EmailAddress.Name\n",
    "            $attendeeEmail = $row.EmailAddress.Address\n",
    "\n",
    "            $attendees += \"$attendeeName - $attendeeEmail, \"\n",
    "        }\n",
    "        $attendees = $attendees.TrimEnd(\", \")\n",
    "\n",
    "        \n",
    "        $log = [PSCustomObject]@{\n",
    "            timestamp = $calendarStartDateTime.ToString(\"yyyy-MM-ddTHH:mm:ss.fffZ\")\n",
    "            duration = ($calendarEndDateTime - $calendarStartDateTime).TotalSeconds\n",
    "            attendees = $attendees\n",
    "            body = $body\n",
    "            importance = $importance\n",
    "            location = $location\n",
    "            isAllDay = $isAllDay\n",
    "            isDraft = $isDraft\n",
    "            isOnlineMeeting = $isOnlineMeeting\n",
    "            isOrganizer = $isOrganizer\n",
    "            onlineMeeting = $onlineMeeting\n",
    "            onlineMeetingProvider = $onlineMeetingProvider\n",
    "            onlineMeetingUrl = $onlineMeetingUrl\n",
    "            organizer = $organizer\n",
    "            subject = $subject\n",
    "            weblink = $weblink\n",
    "        }\n",
    "\n",
    "        $calendarEventLogs += $log\n",
    "    }\n",
    "\n",
    "    $csvObject = [PSCustomObject]@{\n",
    "            FileName = $objectName\n",
    "            FilePath = $objectName\n",
    "            FileContent = ($calendarEventLogs | ConvertTo-Csv) | ConvertFrom-Csv -ErrorAction SilentlyContinue\n",
    "        }\n",
    "    $csvObjects += $csvObject\n",
    "\n",
    "    return $csvObjects\n",
    "}\n"
   ]
  },
  {
   "cell_type": "markdown",
   "metadata": {},
   "source": [
    "## Office Online Sent Emails"
   ]
  },
  {
   "cell_type": "markdown",
   "metadata": {},
   "source": [
    "### Get Sent Emails from Office Online"
   ]
  },
  {
   "cell_type": "code",
   "execution_count": 42,
   "metadata": {
    "dotnet_interactive": {
     "language": "pwsh"
    },
    "polyglot_notebook": {
     "kernelName": "pwsh"
    },
    "vscode": {
     "languageId": "polyglot-notebook"
    }
   },
   "outputs": [],
   "source": [
    "function Get-OfficeOnlineSentEmails {\n",
    "    param (\n",
    "        [Parameter(Mandatory = $true)]\n",
    "        $storedObjectPath,\n",
    "\n",
    "        [Parameter(Mandatory = $true)]\n",
    "        $dateRangesObject,\n",
    "\n",
    "        [Parameter(Mandatory = $true)]\n",
    "        $userId\n",
    "    )\n",
    "\n",
    "    $jobs = @()\n",
    "\n",
    "    $object = Get-StoredObject -ObjectName \"MicrosoftSentEmailIds\" -Path $storedObjectPath\n",
    "\n",
    "    if ($object) {\n",
    "        $allResults = $object\n",
    "    } else {\n",
    "        $sentItemsFolder = Get-MgUserMailFolder -UserId $userId -MailFolderId \"sentitems\"\n",
    "\n",
    "        foreach ($range in $dateRangesObject.GetEnumerator()) {\n",
    "            $jobs += Start-ThreadJob -ScriptBlock {\n",
    "                param($startTime, $endTime, $userId, $sentItemsFolder)\n",
    "\n",
    "                try {\n",
    "                    # Retrieve all messages in the Sent Items folder\n",
    "                    $messages = @()\n",
    "                    $page = Get-MgUserMailFolderMessage -UserId $userId -MailFolderId $sentItemsFolder.Id -PageSize 100\n",
    "\n",
    "                    $messages += $page\n",
    "\n",
    "                    while ($page.NextPageLink) {\n",
    "                        $page = Invoke-MgGraphRequest -Uri $page.NextPageLink -Method GET\n",
    "                        $messages += $page.Value\n",
    "                    }\n",
    "\n",
    "                    # Filter messages by sentDateTime client-side\n",
    "                    $filteredMessages = $messages | Where-Object {\n",
    "                        ($_).sentDateTime -ge $startTime -and ($_.sentDateTime) -le $endTime\n",
    "                    }\n",
    "\n",
    "                    # Return the filtered messages\n",
    "                    return $filteredMessages\n",
    "                } catch {\n",
    "                    Write-Output \"Error retrieving sent emails from $startTime to $($endTime): $($_)\"\n",
    "                    return $null\n",
    "                }\n",
    "            } -ArgumentList $range.Value.StartTime, $range.Value.EndTime, $userId, $sentItemsFolder\n",
    "        }\n",
    "\n",
    "        $allResults = @()\n",
    "        foreach ($job in $jobs) {\n",
    "            $result = Receive-Job -Job $job -Wait -ErrorAction SilentlyContinue\n",
    "            if ($result) {\n",
    "                $allResults += $result\n",
    "            }\n",
    "            Remove-Job -Job $job\n",
    "        }\n",
    "\n",
    "        # Store the results\n",
    "        Get-StoredObject -ObjectName \"MicrosoftSentEmailIds\" -Path $storedObjectPath -InputObject $allResults\n",
    "    }\n",
    "\n",
    "    return $allResults\n",
    "}\n"
   ]
  },
  {
   "cell_type": "markdown",
   "metadata": {},
   "source": [
    "### Convert Office Online Sent Emails"
   ]
  },
  {
   "cell_type": "code",
   "execution_count": 43,
   "metadata": {
    "dotnet_interactive": {
     "language": "pwsh"
    },
    "polyglot_notebook": {
     "kernelName": "pwsh"
    },
    "vscode": {
     "languageId": "polyglot-notebook"
    }
   },
   "outputs": [],
   "source": [
    "function Convert-OfficeOnlineSentEmails {\n",
    "    param (\n",
    "        [Parameter(Mandatory = $true)]\n",
    "        $startDateTime,\n",
    "\n",
    "        [Parameter(Mandatory = $true)]\n",
    "        $endDateTime,\n",
    "\n",
    "        [Parameter(Mandatory = $true)]\n",
    "        $csvObjects,\n",
    "\n",
    "        [Parameter(Mandatory = $true)]\n",
    "        $storedObjectPath,\n",
    "\n",
    "        [Parameter(Mandatory = $true)]\n",
    "        $dateRangesObject,\n",
    "\n",
    "        [Parameter(Mandatory = $true)]\n",
    "        $userId\n",
    "    )\n",
    "\n",
    "    $objectName = \"$userId-$($startDateTime.ToString(\"yyyyMMdd'T'HHmmssK\"))-to-$($endDateTime.ToString(\"yyyyMMdd'T'HHmmssK\"))-MicrosoftOnlineEmails\"\n",
    "    $allResults = Get-OfficeOnlineSentEmails -storedObjectPath $storedObjectPath -dateRangesObject $sortedDateRanges -userId $userId\n",
    "\n",
    "    [PSObject]$sentEmails = @()\n",
    "    foreach ($row in $allResults) {\n",
    "        $weblink = $row.WebLink\n",
    "        $subject = $row.Subject\n",
    "        $isDraft = $row.IsDraft\n",
    "        $inferenceClassification = $row.InferenceClassification\n",
    "        $importance = $row.Importance\n",
    "        $hasAttachments = $row.HasAttachments\n",
    "        $flag = $row.Flag\n",
    "\n",
    "        if ($row.Body.Content){\n",
    "            $bodyText = [System.Web.HttpUtility]::HtmlDecode(($row.Body.Content | ConvertFrom-Html).InnerText)\n",
    "        } else {\n",
    "            $bodyText = \"\"\n",
    "        }\n",
    "\n",
    "        $ccRecipients = \"\"\n",
    "        foreach ($ccRecipient in $row.CcRecipients){\n",
    "            $ccRecipients += \"$($ccRecipient.EmailAddress.Name) - $($ccRecipient.EmailAddress.Address), \"\n",
    "        }\n",
    "        $ccRecipients.TrimEnd(\", \") | Out-Null\n",
    "\n",
    "        $bccRecipients = \"\"\n",
    "        foreach ($bccRecipient in $row.BccRecipients) {\n",
    "            $bccRecipients += \"$($bccRecipient.EmailAddress.Name) - $($bccRecipient.EmailAddress.Address), \"\n",
    "        }\n",
    "        $bccRecipients.TrimEnd(\", \") | Out-Null\n",
    "\n",
    "        $log = [PSCustomObject]@{\n",
    "            timestamp = $row.SentDateTime.ToString(\"yyyy-MM-ddTHH:mm:ss.fffZ\")\n",
    "            duration = ($row.LastModifiedDateTime - $row.SentDateTime).TotalSeconds\n",
    "            bccRecipients = $bccRecipients\n",
    "            body = $bodyText\n",
    "            flag = $flag\n",
    "            hasAttachments = $hasAttachments\n",
    "            importance = $importance\n",
    "            inferenceClassification = $inferenceClassification\n",
    "            isDraft = $isDraft\n",
    "            subject = $subject\n",
    "            weblink = $weblink\n",
    "        }\n",
    "\n",
    "        $sentEmails += $log\n",
    "    }\n",
    "\n",
    "    $csvObject = [PSCustomObject]@{\n",
    "            FileName = $objectName\n",
    "            FilePath = $objectName\n",
    "            FileContent = ($sentEmails | ConvertTo-Csv) | ConvertFrom-Csv -ErrorAction SilentlyContinue\n",
    "        }\n",
    "    $csvObjects += $csvObject\n",
    "\n",
    "    return $csvObjects\n",
    "}\n"
   ]
  },
  {
   "cell_type": "markdown",
   "metadata": {},
   "source": [
    "## Office Online Teams Chat"
   ]
  },
  {
   "cell_type": "markdown",
   "metadata": {},
   "source": [
    "### Get Teams Chat Messages"
   ]
  },
  {
   "cell_type": "code",
   "execution_count": 44,
   "metadata": {
    "dotnet_interactive": {
     "language": "pwsh"
    },
    "polyglot_notebook": {
     "kernelName": "pwsh"
    },
    "vscode": {
     "languageId": "polyglot-notebook"
    }
   },
   "outputs": [],
   "source": [
    "function Get-OfficeOnlineTeamsChatMessages {\n",
    "    param (\n",
    "        [Parameter(Mandatory = $true)]\n",
    "        $storedObjectPath,\n",
    "\n",
    "        [Parameter(Mandatory = $true)]\n",
    "        $userId\n",
    "    )\n",
    "\n",
    "    $jobs = @()\n",
    "    $object = Get-StoredObject -ObjectName \"MicrosoftChatMessages\" -Path $storedObjectPath\n",
    "\n",
    "    if ($object) {\n",
    "        $allResults = $object\n",
    "    } else {\n",
    "        $msGraphUser = Get-MgUser -UserId $userId\n",
    "        $userChats = Get-MgUserChat -UserId $msGraphUser.Id\n",
    "    \n",
    "        foreach ($chat in $userChats) {\n",
    "            $jobs += Start-ThreadJob -ScriptBlock {\n",
    "                param($chat, $userDisplayName)\n",
    "\n",
    "                $chatMessages = Get-MgChatMessage -ChatId $chat.Id -ErrorAction SilentlyContinue\n",
    "                $chatMessages = $chatMessages | Where-Object {$_.GetType().Name -like \"MicrosoftGraphChatMessage\"}\n",
    "\n",
    "                $chatUsers = [System.Collections.Generic.HashSet[object]]::new()\n",
    "                foreach ($message in $chatMessages) {\n",
    "                    $chatUsers.Add($message.From.User.DisplayName) | Out-Null\n",
    "                }\n",
    "\n",
    "                $users = ($chatUsers | Where-Object {$_ -notlike $userDisplayName}) -join \",\"\n",
    "                $messages = $chatMessages | Select-Object *, @{Name=\"To\"; Expression={\"$users\"}}\n",
    "                $return = $messages | Where-Object {$_.From.User.DisplayName -like $userDisplayName}\n",
    "\n",
    "                return $return\n",
    "            } -ArgumentList $chat, $userDisplayName\n",
    "        }\n",
    "\n",
    "\n",
    "        $allResults = @()\n",
    "        foreach ($job in $jobs) {\n",
    "            $chatMessages = Receive-Job -Job $job -Wait -ErrorAction SilentlyContinue\n",
    "            if ($chatMessages) {\n",
    "                foreach ($message in $chatMessages){\n",
    "                    $allResults += $message\n",
    "                }\n",
    "            }\n",
    "            Remove-Job -Job $job\n",
    "        }\n",
    "        Get-StoredObject -ObjectName \"MicrosoftChatMessages\" -Path $storedObjectPath -InputObject $allResults\n",
    "    }\n",
    "\n",
    "    return $allResults\n",
    "}\n",
    "\n"
   ]
  },
  {
   "cell_type": "markdown",
   "metadata": {},
   "source": [
    "### Convert Teams Chat Messages"
   ]
  },
  {
   "cell_type": "code",
   "execution_count": 45,
   "metadata": {
    "dotnet_interactive": {
     "language": "pwsh"
    },
    "polyglot_notebook": {
     "kernelName": "pwsh"
    },
    "vscode": {
     "languageId": "polyglot-notebook"
    }
   },
   "outputs": [],
   "source": [
    "function Convert-OfficeOnlineTeamsChatMessages {\n",
    "    param (\n",
    "        [Parameter(Mandatory = $true)]\n",
    "        $startDateTime,\n",
    "\n",
    "        [Parameter(Mandatory = $true)]\n",
    "        $endDateTime,\n",
    "\n",
    "        [Parameter(Mandatory = $true)]\n",
    "        $csvObjects,\n",
    "\n",
    "        [Parameter(Mandatory = $true)]\n",
    "        $storedObjectPath,\n",
    "\n",
    "        [Parameter(Mandatory = $true)]\n",
    "        $userId\n",
    "    )\n",
    "\n",
    "    $objectName = \"$userId-$($startDateTime.ToString(\"yyyyMMdd'T'HHmmssK\"))-to-$($endDateTime.ToString(\"yyyyMMdd'T'HHmmssK\"))-MicrosoftTeamsChats\"\n",
    "    $allResults = Get-OfficeOnlineTeamsChatMessages -storedObjectPath $storedObjectPath -userId $userId\n",
    "\n",
    "    $sentChats = @()\n",
    "    foreach ($row in $allResults) {\n",
    "        $attachment = $row.Attachments.Content\n",
    "\n",
    "        $doc = New-Object -TypeName HtmlAgilityPack.HtmlDocument\n",
    "\n",
    "        if ($row.Body.Content -ne \"\") {\n",
    "            $doc.LoadHtml($row.Body.Content)\n",
    "            $docAnchors = $doc.DocumentNode.SelectNodes(\"//a\")\n",
    "            $docImgs = $imgTags = $doc.DocumentNode.SelectNodes(\"//img\")\n",
    "\n",
    "            $links = \"\"\n",
    "            foreach ($anchor in $docAnchors){\n",
    "                $href = $anchor.GetAttributeValue(\"href\",\"\")\n",
    "                $text = $anchor.InnerText\n",
    "                $links += \"$text - $href, \"\n",
    "            }\n",
    "            $links.TrimEnd(\", \") | Out-Null\n",
    "\n",
    "            $images = \"\"\n",
    "            foreach ($img in $docImgs) {\n",
    "                $src = $img.GetAttributeValue(\"src\",\"\")\n",
    "                $images += \"img:$src, \"\n",
    "            }\n",
    "            $images.TrimEnd(\",\") | Out-Null\n",
    "\n",
    "            $body = [System.Web.HttpUtility]::HtmlDecode(($row.Body.Content | ConvertFrom-Html).InnerText)\n",
    "        } else {\n",
    "            $body = \"\"\n",
    "        }\n",
    "\n",
    "        $log = @{\n",
    "            timestamp = $row.CreatedDateTime.ToString(\"yyyy-MM-ddTHH:mm:ss.fffZ\")\n",
    "            duration = \"60\"\n",
    "            attachment = $attachment\n",
    "            links = $links\n",
    "            images = $images\n",
    "            body = $body\n",
    "            from = $row.From.User.DisplayName\n",
    "            to = $row.To.Trim(\",\")\n",
    "            webUrl = $row.WebUrl\n",
    "        }\n",
    "        $sentChats += $log\n",
    "    }\n",
    "\n",
    "    $csvObject = [PSCustomObject]@{\n",
    "        FileName = $objectName\n",
    "        FilePath = $objectName\n",
    "        FileContent = $sentChats\n",
    "    }\n",
    "\n",
    "    $csvObjects += $csvObject\n",
    "\n",
    "    return $csvObjects\n",
    "}\n"
   ]
  },
  {
   "cell_type": "markdown",
   "metadata": {},
   "source": [
    "# Intermediate CSV Prep"
   ]
  },
  {
   "cell_type": "markdown",
   "metadata": {},
   "source": [
    "### Cleaning Zero Duration Entries"
   ]
  },
  {
   "cell_type": "code",
   "execution_count": 46,
   "metadata": {
    "dotnet_interactive": {
     "language": "pwsh"
    },
    "polyglot_notebook": {
     "kernelName": "pwsh"
    },
    "vscode": {
     "languageId": "polyglot-notebook"
    }
   },
   "outputs": [],
   "source": [
    "function Remove-ZeroDurationEntries {\n",
    "    param (\n",
    "        [Parameter(Mandatory = $true)]\n",
    "        $csvObjects\n",
    "    )\n",
    "\n",
    "    foreach ($csvObject in $csvObjects) {\n",
    "        $csvObject.FileContent = $csvObject.FileContent | Where-Object {$_.duration -gt 0}\n",
    "    }\n",
    "\n",
    "    return $csvObjects\n",
    "}\n"
   ]
  },
  {
   "cell_type": "markdown",
   "metadata": {},
   "source": [
    "### Merging CSVs and Adding a 'source' column/property to each"
   ]
  },
  {
   "cell_type": "code",
   "execution_count": 47,
   "metadata": {
    "dotnet_interactive": {
     "language": "pwsh"
    },
    "polyglot_notebook": {
     "kernelName": "pwsh"
    },
    "vscode": {
     "languageId": "polyglot-notebook"
    }
   },
   "outputs": [],
   "source": [
    "function Merge-CsvContentToRows {\n",
    "    param (\n",
    "        [Parameter(Mandatory = $true)]\n",
    "        $csvObjects\n",
    "    )\n",
    "\n",
    "    $allRows = @()\n",
    "    foreach ($object in $csvObjects){\n",
    "        $source = ((($object.FileName.ToString()) -replace \"aw-events-export-aw-watcher-\", \"\") -replace \".csv\", \"\") -replace \"(-\\d{4}-\\d{2}-\\d{2})\", \"\"\n",
    "        $fileContentWithSource = $object.FileContent | Select-Object *, @{Name=\"Source\"; Expression={\"$source\"}}\n",
    "        $object.FileContent = $fileContentWithSource\n",
    "        $allRows += $fileContentWithSource\n",
    "    }\n",
    "\n",
    "    $allHeaders = $allRows | ForEach-Object { $_.PSObject.Properties.Name } | Sort-Object -Unique\n",
    "\n",
    "    $mergedRows = $allRows | ForEach-Object {\n",
    "        $newRow = @{}\n",
    "        foreach ($header in $allHeaders) {\n",
    "            $newRow[$header] = $_.$header\n",
    "        }\n",
    "        New-Object PSObject -Property $newRow\n",
    "    }\n",
    "    $mergedRows = (($mergedRows | Sort-Object {[Datetime]::Parse($_.timestamp)}) | ConvertTo-Csv -NoTypeInformation) | ConvertFrom-Csv\n",
    "\n",
    "    return $csvObjects, $mergedRows\n",
    "}\n"
   ]
  },
  {
   "cell_type": "markdown",
   "metadata": {},
   "source": [
    "### Converting to formats"
   ]
  },
  {
   "cell_type": "markdown",
   "metadata": {},
   "source": [
    "#### Converting to Standard format"
   ]
  },
  {
   "cell_type": "code",
   "execution_count": 48,
   "metadata": {
    "dotnet_interactive": {
     "language": "pwsh"
    },
    "polyglot_notebook": {
     "kernelName": "pwsh"
    },
    "vscode": {
     "languageId": "polyglot-notebook"
    }
   },
   "outputs": [],
   "source": [
    "function ConvertTo-StandardCSVFormat {\n",
    "    param (\n",
    "        [Parameter(Mandatory = $true)]\n",
    "        $rows,\n",
    "\n",
    "        [Parameter(Mandatory = $true)]\n",
    "        $email\n",
    "    )\n",
    "\n",
    "    $standardizedCsvData = $rows | ForEach-Object {\n",
    "        $datetime = [DateTime]::Parse($_.timestamp)\n",
    "        $formatted_datetime = $datetime.ToString(\"yyyy-MM-dd_HH:mm:ss\")\n",
    "        $startDate, $startTime = $formatted_datetime -split \"_\"\n",
    "\n",
    "        $duration = [TimeSpan]::FromSeconds($_.duration)\n",
    "        $formattedDuration = $duration.ToString(\"hh\\:mm\\:ss\")\n",
    "        \n",
    "        [string]$description = \"$([string]$_.Source) -\"\n",
    "\n",
    "        $headers = $_ | Get-Member -MemberType NoteProperty | Where-Object {$_.Name -notin @(\"Source\", \"timestamp\", \"duration\")}\n",
    "        \n",
    "        foreach ($header in $headers){\n",
    "            $description += \" $(([string]$_.PSObject.Properties[$header.Name].Value).Trim())\"\n",
    "        }\n",
    "\n",
    "        $standardizedRow = @{\n",
    "            Duration = $formattedDuration\n",
    "            \"Start Date\" = $startDate\n",
    "            \"Start Time\" = $startTime\n",
    "            Description = $description.Trim()\n",
    "            email = $email\n",
    "        }\n",
    "\n",
    "        New-Object PSObject -Property $standardizedRow\n",
    "    }\n",
    "\n",
    "    return $standardizedCsvData\n",
    "}\n"
   ]
  },
  {
   "cell_type": "markdown",
   "metadata": {},
   "source": [
    "#### Group Consolodated Logs By Day with a max string size by character and KB"
   ]
  },
  {
   "cell_type": "code",
   "execution_count": 49,
   "metadata": {
    "dotnet_interactive": {
     "language": "pwsh"
    },
    "polyglot_notebook": {
     "kernelName": "pwsh"
    },
    "vscode": {
     "languageId": "polyglot-notebook"
    }
   },
   "outputs": [],
   "source": [
    "function Sort-RowsIntoGroupsByDay {\n",
    "    param (\n",
    "        [Parameter(Mandatory = $true)]\n",
    "        $maxCharacterCountByBlock,\n",
    "\n",
    "        [Parameter(Mandatory = $true)]\n",
    "        $maxCharacterCountHumble,\n",
    "\n",
    "        [Parameter(Mandatory = $true)]\n",
    "        $maxBlockSizeKB,\n",
    "\n",
    "        [Parameter(Mandatory = $true)]\n",
    "        $standardizedCsvData\n",
    "\n",
    "    )\n",
    "    $maxCharacterCount = $maxCharacterCountByBlock / $maxCharacterCountHumble\n",
    "    $maxSize = $maxBlockSizeKB * 1024 #KB\n",
    "\n",
    "    $headers = $standardizedCsvData[0] | Get-Member -MemberType NoteProperty | Select-Object -ExpandProperty Name\n",
    "    $csvHeadersRowString = ($headers -join \",\") + \"`n\"\n",
    "    $headerSize = [Text.Encoding]::UTF8.GetByteCount($csvHeadersRowString)\n",
    "    $rows_by_date = $standardizedCsvData | Group-Object -Property \"Start Date\"\n",
    "\n",
    "    $groupsByDateAndMaxCharacterCount = @{}\n",
    "\n",
    "    foreach ($day in $rows_by_date) {\n",
    "        $date = $day.Name\n",
    "        $currentSubGroup = @()\n",
    "        $currentSubGroupCharCount = 0\n",
    "        $currentSubGroupSize = 0\n",
    "\n",
    "        $groupsByDateAndMaxCharacterCount[$date] = @()\n",
    "\n",
    "        foreach ($row in $day.Group) {\n",
    "            $csvRow = $row | ConvertTo-Csv -NoTypeInformation -NoHeader -Delimiter \",\"\n",
    "            $csvRowString = $csvRow -join \"`n\" + \"`n\"\n",
    "            $rowSize = [Text.Encoding]::UTF8.GetByteCount($csvRowString)\n",
    "\n",
    "            $rowCharCount = 0\n",
    "            foreach ($header in $headers) {\n",
    "                $rowCharCount += ($row.$header).Length\n",
    "            }\n",
    "\n",
    "            if (($currentSubGroupCharCount + $rowCharCount -le $maxCharacterCount) -and\n",
    "            ($currentSubGroupSize + $rowSize -le $maxSize)) {\n",
    "                    $currentSubGroup += $row\n",
    "                    $currentSubGroupCharCount += $rowCharCount\n",
    "                    $currentSubGroupSize += $rowSize\n",
    "\n",
    "            } else {\n",
    "                    $groupsByDateAndMaxCharacterCount[$date] += ,@($currentSubGroup)\n",
    "                    $currentSubGroup = @($row)\n",
    "                    $currentSubGroupCharCount = $rowCharCount\n",
    "                    $currentSubGroupSize = $rowSize\n",
    "            }\n",
    "        }\n",
    "\n",
    "        if ($currentSubGroup.Count -gt 0){\n",
    "            $groupsByDateAndMaxCharacterCount[$date] += ,@($currentSubGroup)\n",
    "        }\n",
    "    }\n",
    "\n",
    "    $groups = $groupsByDateAndMaxCharacterCount.GetEnumerator() | \n",
    "                Sort-Object { [DateTime]::ParseExact($_.Key, 'yyyy-MM-dd', $null) } |\n",
    "                ForEach-Object { [PSCustomObject]@{ Name = $_.Key; Value = $_.Value } }\n",
    "\n",
    "    return $groups\n",
    "}\n"
   ]
  },
  {
   "cell_type": "markdown",
   "metadata": {},
   "source": [
    "# LLM Processing"
   ]
  },
  {
   "cell_type": "markdown",
   "metadata": {},
   "source": [
    "### Export to GPT Prompts"
   ]
  },
  {
   "cell_type": "code",
   "execution_count": 50,
   "metadata": {
    "dotnet_interactive": {
     "language": "pwsh"
    },
    "polyglot_notebook": {
     "kernelName": "pwsh"
    },
    "vscode": {
     "languageId": "polyglot-notebook"
    }
   },
   "outputs": [],
   "source": [
    "function Get-PromptHeader {\n",
    "    return @\"\n",
    "\n",
    "## **Prompt**\n",
    "\n",
    "\"@\n",
    "}\n",
    "\n",
    "function Get-PromptDirective {\n",
    "    return @\"\n",
    "\n",
    "Process the following log entries and generate a JSON array of ticket entries. For each ticket:\n",
    "\n",
    "Identify the key activity or focus area.\n",
    "Include relevant time entries with a start and stop time based on the logs, adjusted to be reasonable and average for the task; reduce.\n",
    "Accommodate overnight tasks appropriately.\n",
    "Adjust time entries to be reasonable and average for an expert at the task.\n",
    "\n",
    "\"@\n",
    "}\n",
    "\n",
    "function Get-PromptMdFenceHeader {\n",
    "    return @\"\n",
    "\n",
    "``````json\n",
    "\"@\n",
    "\n",
    "}\n",
    "\n",
    "function Get-PromptJsonTemplate {\n",
    "    return @\"\n",
    "\n",
    "[\n",
    "    {\n",
    "        \"Account\": \"Specify the relevant client or project mentioned in the log\"\n",
    "        \"Contacts\": \"List any colleagues or participants involved\"\n",
    "        \"Status\": \"New\"\n",
    "        \"Priority\": \"Determine based on urgency or frequency in the log\"\n",
    "        \"IssueType\": \"Primary category of the activity, e.g., 'Research', 'Collaboration', 'Technical Issue'\"\n",
    "        \"SubIssueType\": \"A more detailed classification if applicable\"\n",
    "        \"EstimatedTime\": \"Total time spent on the activity\"\n",
    "        \"Resources\": {\n",
    "            \"Primary\": \"Yourself or the main person responsible\"\n",
    "            \"Secondary\": \"Additional colleagues involved\"\n",
    "        }\n",
    "        \"ToolsAndServicesUsed\" = {\n",
    "            \"Tools\": \"List any tools, software, or departments involved\"\n",
    "            \"URLs\": [\"A list of collected URLs found for the ticket\"]\n",
    "        }\n",
    "        \"TimeEntries\" = [\n",
    "            {\n",
    "                \"start_time\": \"yyyy-MM-ddTHH:mm:ss.fffZ\"\n",
    "                \"end_time\": \"yyyy-MM-ddTHH:mm:ss.fffZ\"\n",
    "                \"description\": \"A detailed summary including Key tasks performed or searches conducted and major insights gained\"\n",
    "            },\n",
    "            {\n",
    "                \"start_time\": \"yyyy-MM-ddTHH:mm:ss.fffZ\"\n",
    "                \"end_time\": \"yyyy-MM-ddTHH:mm:ss.fffZ\"\n",
    "                \"description\": \"A detailed summary including Key tasks performed or searches conducted and major insights gained\"\n",
    "            },\n",
    "            {\n",
    "                ...\n",
    "            }\n",
    "        ]\n",
    "        \"Title\": \"A brief, unique summary of the activity\"\n",
    "        \"Project\": \"Name of the Project\"\n",
    "        \"Description\": \"A detailed summary including Key tasks performed or searches conducted and major insights gained\"\n",
    "        \"Billable\": \"Assess whether this should be classified as billiable or unbillable.\"\n",
    "    },\n",
    "    {\n",
    "        ...\n",
    "    }\n",
    "]\n",
    "\n",
    "\"@\n",
    "}\n",
    "\n",
    "function Get-PromptMdFenceFooter {\n",
    "    return @\"\n",
    "\n",
    "``````\n",
    "\n",
    "\"@\n",
    "}\n",
    "\n",
    "function Get-PromptJsonDirectiveTrailer {\n",
    "    return @\"\n",
    "\n",
    "Don't use any markdown backticks, additional text, explanations, or formatting. Output only the JSON data.\n",
    "Don't use any markdown backticks, additional text, explanations, or formatting. Output only the JSON data.\n",
    "\n",
    "\"@\n",
    "}\n",
    "\n",
    "function Get-PromptDataHeader {\n",
    "    return @\"\n",
    "\n",
    "### Data\n",
    "\n",
    "\"@\n",
    "}\n",
    "\n",
    "function Generate-Prompts {\n",
    "    param (\n",
    "        [Parameter(Mandatory = $true)]\n",
    "        $fileBaseName,\n",
    "\n",
    "        [Parameter(Mandatory = $true)]\n",
    "        $groups\n",
    "    )\n",
    "\n",
    "    $prompts = @()\n",
    "    foreach ($date in $groups){\n",
    "\n",
    "        $dateCsvCount = $date.Value.Count\n",
    "        $csvCount = 0\n",
    "        foreach ($csv in $date.Value){\n",
    "            $csvCount++ \n",
    "            $prompt_data = $null\n",
    "\n",
    "\n",
    "            $fileName = \"$fileBaseName-for-$($date.Name)-part-$csvCount-of-$dateCsvCount.csv\"\n",
    "\n",
    "            $csv | Export-Csv -Path \".\\StoredObjects\\CSVOut\\$filename\" -NoTypeInformation\n",
    "\n",
    "            $csvString = ($csv | ConvertTo-Csv -NoTypeInformation) -join \"`n\"\n",
    "\n",
    "            $promptCritia = @((Get-PromptHeader), (Get-PromptDirective), (Get-PromptMdFenceHeader), (Get-PromptJsonTemplate), (Get-PromptMdFenceFooter), (Get-PromptJsonDirectiveTrailer), (Get-PromptDataHeader)) -join \"\"\n",
    "\n",
    "            $prompt = $promptCritia + $csvString\n",
    "            $prompts += $prompt\n",
    "        }\n",
    "    }\n",
    "\n",
    "    return $prompts\n",
    "}\n"
   ]
  },
  {
   "cell_type": "markdown",
   "metadata": {},
   "source": [
    "## Getting JSON Tickets from OpenAI"
   ]
  },
  {
   "cell_type": "markdown",
   "metadata": {},
   "source": [
    "### Get Model"
   ]
  },
  {
   "cell_type": "code",
   "execution_count": 51,
   "metadata": {
    "dotnet_interactive": {
     "language": "pwsh"
    },
    "polyglot_notebook": {
     "kernelName": "pwsh"
    },
    "vscode": {
     "languageId": "polyglot-notebook"
    }
   },
   "outputs": [],
   "source": [
    "function Get-Gpt4oLatestModel {\n",
    "    $openAiApiCreds = Get-StoredCredential -CredentialName \"openAiApiCreds\" -Path \".\\StoredCredentials\"\n",
    "    $listModelsEndpoint = \"https://api.openai.com/v1/models\"\n",
    "    $headers = @{\n",
    "        \"Authorization\" = \"Bearer $($openAiApiCreds.GetNetworkCredential().Password)\"\n",
    "        \"Content-Type\" = \"application/json\"\n",
    "    }\n",
    "    $chatgpt4oId = ((Invoke-RestMethod -Uri $listModelsEndpoint -Method Get -Headers $headers).data | Where-Object {$_.id -like \"chatgpt-4o-latest\"}).id\n",
    "\n",
    "    if ($chatgpt4oId.Length -gt 0) {\n",
    "        return $chatgpt4oId\n",
    "    } else {\n",
    "        throw [System.ArgumentException]::new(\"Parameter cannot be null.\", \"`$chatgpt4oId\")\n",
    "    }\n",
    "}\n"
   ]
  },
  {
   "cell_type": "markdown",
   "metadata": {},
   "source": [
    "### Call API and Get Completions"
   ]
  },
  {
   "cell_type": "code",
   "execution_count": 52,
   "metadata": {
    "dotnet_interactive": {
     "language": "pwsh"
    },
    "polyglot_notebook": {
     "kernelName": "pwsh"
    },
    "vscode": {
     "languageId": "polyglot-notebook"
    }
   },
   "outputs": [],
   "source": [
    "function Get-Gpt4oCompletions {\n",
    "    param (\n",
    "        [Parameter(Mandatory = $true)]\n",
    "        $storedObjectPath,\n",
    "\n",
    "        [Parameter(Mandatory = $true)]\n",
    "        $prompts,\n",
    "\n",
    "        $responseCount = 0\n",
    "    )\n",
    "\n",
    "    \n",
    "    $completionsEndpoint = \"https://api.openai.com/v1/chat/completions\"\n",
    "\n",
    "    $object = Get-StoredObject -ObjectName \"OpenAiCompletions\" -Path $storedObjectPath\n",
    "    if ($object) {\n",
    "        $allResults = $object\n",
    "    } else {\n",
    "        $openAiApiCreds = Get-StoredCredential -CredentialName \"openAiApiCreds\" -Path \".\\StoredCredentials\"\n",
    "        \n",
    "\n",
    "        $jobs = @()\n",
    "        $count = 0\n",
    "        foreach ($prompt in $prompts) {\n",
    "            $count++\n",
    "            $jobs += Start-ThreadJob -ScriptBlock{\n",
    "                param($prompt, $completionsEndpoint, $openAiApiCreds, $chatgpt4oId, $headers, $storedObjectPath)\n",
    "                . \".\\Powershell\\Get-StoredObject.ps1\" | Out-Null\n",
    "\n",
    "                $headers = @{\n",
    "                    \"Authorization\" = \"Bearer $($openAiApiCreds.GetNetworkCredential().Password)\"\n",
    "                    \"Content-Type\" = \"application/json\"\n",
    "                }\n",
    "                $promptHash = [System.BitConverter]::ToString([System.Security.Cryptography.SHA256]::Create().ComputeHash([System.Text.Encoding]::UTF8.GetBytes($prompt))).Replace(\"-\", \"\")\n",
    "                $completion = Get-StoredObject -ObjectName $promptHash -Path \"$storedObjectPath\\Completions\"\n",
    "\n",
    "                if ($completion) {\n",
    "                    return $completion\n",
    "                } else {\n",
    "                    $requestBody = @{\n",
    "                        model = $chatgpt4oId\n",
    "                        messages = @(\n",
    "                            @{\n",
    "                                role = \"user\"\n",
    "                                content = $prompt\n",
    "                            }\n",
    "                        )\n",
    "                        temperature = 0.7\n",
    "                        max_tokens = 1024\n",
    "                        top_p = 0.9\n",
    "                        frequency_penalty = 0.0\n",
    "                    } | ConvertTo-Json -Depth 6 -Compress\n",
    "\n",
    "                    Start-Sleep -Seconds 15\n",
    "                    $completion = Invoke-RestMethod -Uri $completionsEndpoint -Method Post -Headers $headers -Body $requestBody\n",
    "                    \n",
    "                    $return = [pscustomobject]@{\n",
    "                        content = $completion.choices[0].message.content\n",
    "                        promptHash = $promptHash\n",
    "                        prompt = $prompt\n",
    "                    }\n",
    "                    Get-StoredObject -ObjectName $promptHash -Path \"$storedObjectPath\\Completions\" -InputObject $return\n",
    "                    return $return\n",
    "                }\n",
    "\n",
    "            } -ArgumentList $prompt, $completionsEndpoint, $openAiApiCreds, (Get-Gpt4oLatestModel), $headers, $storedObjectPath\n",
    "            \n",
    "            Start-Sleep -Seconds 15\n",
    "            if($responseCount -gt 0){\n",
    "                if ($count -gt ($responseCount - 1)){break}\n",
    "            }\n",
    "        }\n",
    "\n",
    "        $allResults = @()\n",
    "        foreach ($job in $jobs) {\n",
    "            $completions = Receive-Job -Job $job -Wait\n",
    "            if ($completions) {\n",
    "                foreach ($result in $completions){\n",
    "                    $allResults += $result\n",
    "                    \n",
    "                }\n",
    "            }\n",
    "            Remove-Job -Job $job\n",
    "        }\n",
    "        \n",
    "        Get-StoredObject -ObjectName \"OpenAiCompletions\" -Path $storedObjectPath -InputObject $allResults\n",
    "        \n",
    "    }\n",
    "\n",
    "    return $allResults\n",
    "}\n"
   ]
  },
  {
   "cell_type": "markdown",
   "metadata": {},
   "source": [
    "### Cleaning Responses"
   ]
  },
  {
   "cell_type": "markdown",
   "metadata": {},
   "source": [
    "#### Grouping Valid Json"
   ]
  },
  {
   "cell_type": "code",
   "execution_count": 53,
   "metadata": {
    "dotnet_interactive": {
     "language": "pwsh"
    },
    "polyglot_notebook": {
     "kernelName": "pwsh"
    },
    "vscode": {
     "languageId": "polyglot-notebook"
    }
   },
   "outputs": [],
   "source": [
    "function Group-ValidJsonCompletions {\n",
    "    param (\n",
    "        [Parameter(Mandatory = $true)]\n",
    "        $jsonCompletions\n",
    "    )\n",
    "\n",
    "    $validJson = @()\n",
    "    $invalidJson = @()\n",
    "\n",
    "    foreach ($result in $jsonCompletions) {\n",
    "        try {\n",
    "            # Attempt to parse JSON content using .NET's JSON parser\n",
    "            [System.Text.Json.JsonDocument]::Parse($result.content) | Out-Null\n",
    "\n",
    "            # Add to valid JSON collection if parsing is successful\n",
    "            $completion = [PSCustomObject]@{\n",
    "                promptHash = $result.promptHash\n",
    "                content = $result.content\n",
    "                prompt = $result.prompt\n",
    "            }\n",
    "            $validJson += $completion\n",
    "        } catch {\n",
    "            # Add to invalid JSON collection if parsing fails, capturing error message\n",
    "            $completion = [PSCustomObject]@{\n",
    "                promptHash = $result.promptHash\n",
    "                content = $result.content\n",
    "                prompt = $result.prompt\n",
    "                jsonError = $_.Exception.Message\n",
    "            }\n",
    "            $invalidJson += $completion\n",
    "        }\n",
    "    }\n",
    "    return $validJson, $invalidJson\n",
    "}\n"
   ]
  },
  {
   "cell_type": "markdown",
   "metadata": {},
   "source": [
    "#### Repairing Json"
   ]
  },
  {
   "cell_type": "markdown",
   "metadata": {},
   "source": [
    "##### Generating all Json Tail Closures"
   ]
  },
  {
   "cell_type": "code",
   "execution_count": 54,
   "metadata": {
    "dotnet_interactive": {
     "language": "pwsh"
    },
    "polyglot_notebook": {
     "kernelName": "pwsh"
    },
    "vscode": {
     "languageId": "polyglot-notebook"
    }
   },
   "outputs": [],
   "source": [
    "function Generate-AllJsonClosurePermutations {\n",
    "    param (\n",
    "        [int]$MaxDepth  # The maximum depth for permutations\n",
    "    )\n",
    "\n",
    "    # Initialize an array to hold all permutations\n",
    "    $allPermutations = @()  \n",
    "\n",
    "    function Generate-Permutations {\n",
    "        param (\n",
    "            [int]$Depth,           # The target depth of the current call\n",
    "            [string]$Current = \"\",  # The current permutation string being built\n",
    "            [ref]$Permutations     # A reference to the main array to store permutations\n",
    "        )\n",
    "\n",
    "        # Base case: if the current depth is reached, add the permutation to the array\n",
    "        if ($Current.Length -eq $Depth) {\n",
    "            # Add the permutation to the array passed by reference\n",
    "            $Permutations.Value += $Current  \n",
    "            return\n",
    "        }\n",
    "\n",
    "        # Recursive case: append each character `]` and `}` and go deeper\n",
    "        Generate-Permutations -Depth $Depth -Current ($Current + \"]\") -Permutations $Permutations\n",
    "        Generate-Permutations -Depth $Depth -Current ($Current + \"}\") -Permutations $Permutations\n",
    "    }\n",
    "\n",
    "    # Generate permutations for each depth from 1 to MaxDepth\n",
    "    for ($currentDepth = 1; $currentDepth -le $MaxDepth; $currentDepth++) {\n",
    "        Generate-Permutations -Depth $currentDepth -Permutations ([ref]$allPermutations)\n",
    "    }\n",
    "\n",
    "    # Return the array of permutations\n",
    "    return $allPermutations\n",
    "}\n",
    "\n",
    "function Generate-JsonTailRepairs {\n",
    "    $permutations = Generate-AllJsonClosurePermutations -MaxDepth 6\n",
    "\n",
    "    $repair_prefixes = ('\":\"\"', ':\"\"', '\"\"', '\"')\n",
    "\n",
    "    foreach ($permutation in $permutations) {\n",
    "        foreach ($prefix in $repair_prefixes) {\n",
    "            $permutations += $prefix + $permutation\n",
    "        }\n",
    "    }\n",
    "\n",
    "    $tailRepairs = $permutations | Sort-Object {$_.Length}\n",
    "\n",
    "    return $tailRepairs\n",
    "}\n"
   ]
  },
  {
   "cell_type": "markdown",
   "metadata": {},
   "source": [
    "##### Non-Destructive Json Tail Closure Fix"
   ]
  },
  {
   "cell_type": "code",
   "execution_count": 55,
   "metadata": {
    "dotnet_interactive": {
     "language": "pwsh"
    },
    "polyglot_notebook": {
     "kernelName": "pwsh"
    },
    "vscode": {
     "languageId": "polyglot-notebook"
    }
   },
   "outputs": [],
   "source": [
    "function RepairWith-NonDestructiveTail ($promptHash, $content, $prompt, $jsonError) {\n",
    "    $tailRepairs = (Generate-JsonTailRepairs)\n",
    "\n",
    "    foreach ($repair in $tailRepairs) {\n",
    "        try {\n",
    "            $repaired = (($content + $repair) | ConvertFrom-Json) | ConvertTo-Json -Depth 6\n",
    "\n",
    "            if ($repaired) {\n",
    "                $repairedJson = [PSCustomObject]@{\n",
    "                    promptHash = $promptHash\n",
    "                    content = $content\n",
    "                    prompt = $prompt\n",
    "                    jsonError = $jsonError\n",
    "                    repairedByNonDestructiveTail = $true\n",
    "                    repairedJson = $repaired\n",
    "                }\n",
    "\n",
    "                return $repairedJson\n",
    "                break\n",
    "            }\n",
    "        } catch {}\n",
    "    }\n",
    "\n",
    "    return $false\n",
    "}\n"
   ]
  },
  {
   "cell_type": "markdown",
   "metadata": {},
   "source": [
    "##### Last Comma - Destructive Json Tail Closure Fix"
   ]
  },
  {
   "cell_type": "code",
   "execution_count": 56,
   "metadata": {
    "dotnet_interactive": {
     "language": "pwsh"
    },
    "polyglot_notebook": {
     "kernelName": "pwsh"
    },
    "vscode": {
     "languageId": "polyglot-notebook"
    }
   },
   "outputs": [],
   "source": [
    "function RepairWith-LastCommaTail ($promptHash, $content, $prompt, $jsonError) {\n",
    "    $tailRepairs = (Generate-JsonTailRepairs)\n",
    "    \n",
    "    $parts = $content -split \",\"\n",
    "    $before = ($parts[0..($parts.Length - 2)] -join \",\")\n",
    "    $after = (\",\" + $parts[-1])\n",
    "    foreach ($repair in $tailRepairs) {\n",
    "        try {\n",
    "            $repaired = (($before + $repair) | ConvertFrom-Json) | ConvertTo-Json -Depth 6\n",
    "\n",
    "            if ($repaired) {\n",
    "                $repairedJson = [PSCustomObject]@{\n",
    "                    promptHash = $promptHash\n",
    "                    content = $content\n",
    "                    prompt = $prompt\n",
    "                    jsonError = $jsonError\n",
    "                    repairedByLastCommaTail = $true\n",
    "                    repairedJson = $repaired\n",
    "                    parts = $parts\n",
    "                    before = $before\n",
    "                    after = $after\n",
    "                }\n",
    "\n",
    "                return $repairedJson\n",
    "                break\n",
    "            }\n",
    "        } catch {}\n",
    "    }\n",
    "\n",
    "    return $false\n",
    "}\n"
   ]
  },
  {
   "cell_type": "markdown",
   "metadata": {
    "vscode": {
     "languageId": "polyglot-notebook"
    }
   },
   "source": [
    "##### Remove GPT Markdown Fense Artifacts"
   ]
  },
  {
   "cell_type": "code",
   "execution_count": 57,
   "metadata": {
    "dotnet_interactive": {
     "language": "pwsh"
    },
    "polyglot_notebook": {
     "kernelName": "pwsh"
    },
    "vscode": {
     "languageId": "polyglot-notebook"
    }
   },
   "outputs": [],
   "source": [
    "function RepairWith-RemoveMarkdownFense ($promptHash, $content, $prompt, $jsonError) {\n",
    "    if (($content[0..10] -join \"\")-like \"*``````json*\") {\n",
    "        $trimStart = $content.TrimStart(\"``````json\")\n",
    "        $repairedMarkdown = $trimStart.TrimEnd(\"``````\")\n",
    "\n",
    "        try {\n",
    "            $repaired = ($repairedMarkdown | ConvertFrom-Json) | ConvertTo-Json -Depth 6\n",
    "\n",
    "            if ($repaired) {\n",
    "                $repairedJson = [pscustomobject]@{\n",
    "                    promptHash = $promptHash\n",
    "                    content = $content\n",
    "                    prompt = $prompt\n",
    "                    jsonError = $jsonError\n",
    "                    appliedRemoveMarkdownFense = $true\n",
    "                    repairedByRemoveMarkdownFense = $true\n",
    "                    repairedMarkdown = $repairedMarkdown\n",
    "                    repairedJson = $repaired\n",
    "                }\n",
    "\n",
    "                return $repairedJson\n",
    "            }\n",
    "        } catch {\n",
    "            $appliedMarkdownFense = [PSCustomObject]@{\n",
    "                promptHash = $promptHash\n",
    "                content = $content\n",
    "                prompt = $prompt\n",
    "                jsonError = $jsonError\n",
    "                appliedRemoveMarkdownFense = $true\n",
    "                repairedByRemoveMarkdownFense = $false\n",
    "                repairedMarkdown = $repairedMarkdown\n",
    "            }\n",
    "            \n",
    "            return $appliedMarkdownFense    \n",
    "        }\n",
    "    }\n",
    "\n",
    "    return $false\n",
    "}\n"
   ]
  },
  {
   "cell_type": "markdown",
   "metadata": {},
   "source": [
    "##### If a Value should be an array, repair it"
   ]
  },
  {
   "cell_type": "code",
   "execution_count": 58,
   "metadata": {
    "dotnet_interactive": {
     "language": "pwsh"
    },
    "polyglot_notebook": {
     "kernelName": "pwsh"
    },
    "vscode": {
     "languageId": "polyglot-notebook"
    }
   },
   "outputs": [],
   "source": [
    "\n",
    "function RepairWith-JsonLineArray ($promptHash, $content, $prompt, $jsonError) {\n",
    "\n",
    "    $jsonError -match 'LineNumber:\\s*(\\d+)\\s*\\|' | Out-Null\n",
    "    $lineNumber = $Matches[1]\n",
    "    $lines = $content -split \"`r?`n\"\n",
    "    $string = $lines[$lineNumber - 1]\n",
    "\n",
    "    $string\n",
    "\n",
    "    try {\n",
    "        if ($lines[$lineNumber - 1] -match \":\") {\n",
    "            $keyValue = $lines[$lineNumber - 1] -split \":\"\n",
    "            $arrayRepairedJson = @($keyValue[0], ((\"[$($keyValue[1])]\" | ConvertFrom-Json) | ConvertTo-Json -Compress)) -join \":\"\n",
    "            \n",
    "            $lines[$lineNumber -1] = $arrayRepairedJson\n",
    "            $repairedArray = $lines -join \"`n\"\n",
    "\n",
    "            try {\n",
    "                $repaired = ($repairedArray | ConvertFrom-Json) | ConvertTo-Json -Depth 6\n",
    "\n",
    "                if ($repaired) {\n",
    "                    $repairedJson = [pscustomobject]@{\n",
    "                        promptHash = $promptHash\n",
    "                        content = $content\n",
    "                        prompt = $prompt\n",
    "                        jsonError = $jsonError\n",
    "                        appliedJsonLineArrayFix = $true\n",
    "                        repairedByJsonLineArrayFix = $true\n",
    "                        repairedArray = $repairedArray\n",
    "                        repairedJson = $repaired\n",
    "                    }\n",
    "\n",
    "                    return $repairedJson\n",
    "                }\n",
    "            } catch {\n",
    "                $repairedJsonLineArray = [PSCustomObject]@{\n",
    "                    promptHash = $promptHash\n",
    "                    content = $content\n",
    "                    prompt = $prompt\n",
    "                    jsonError = $jsonError\n",
    "                    appliedJsonLineArrayFix = $true\n",
    "                    repairedByJsonLineArrayFix = $false\n",
    "                    repairedArray = $repairedArray\n",
    "                }\n",
    "                \n",
    "                return $repairedJsonLineArray\n",
    "            }\n",
    "        } else {\n",
    "            throw\n",
    "        }\n",
    "    } catch {\n",
    "        return $false\n",
    "    }\n",
    "}\n"
   ]
  },
  {
   "cell_type": "markdown",
   "metadata": {},
   "source": [
    "#### Apply All Json Repairs"
   ]
  },
  {
   "cell_type": "code",
   "execution_count": 59,
   "metadata": {
    "dotnet_interactive": {
     "language": "pwsh"
    },
    "polyglot_notebook": {
     "kernelName": "pwsh"
    },
    "vscode": {
     "languageId": "polyglot-notebook"
    }
   },
   "outputs": [],
   "source": [
    "function Repair-JsonCompletions {\n",
    "    param (\n",
    "        [Parameter(Mandatory = $true)]\n",
    "        $invalidJson\n",
    "    )\n",
    "    $RepairedJson = @()\n",
    "    $RepairFailures = @()\n",
    "    foreach ($json in $invalidJson) {\n",
    "        $promptHash = $json.promptHash\n",
    "        $content = $json.content\n",
    "        $prompt = $json.prompt\n",
    "        $jsonError = $json.jsonError\n",
    "\n",
    "        $nonDestructiveTailRepair = RepairWith-NonDestructiveTail -promptHash $promptHash -content $content -prompt $prompt -jsonError $jsonError\n",
    "        \n",
    "\n",
    "        if ($nonDestructiveTailRepair) {\n",
    "            $RepairedJson += $nonDestructiveTailRepair\n",
    "        } else {\n",
    "            switch -Wildcard ($jsonError) {\n",
    "                '*\"Expected end of string, but instead reached end of data.*' {\n",
    "\n",
    "                    $lastCommaTailRepair = RepairWith-LastCommaTail -promptHash $promptHash -content $content -prompt $prompt -jsonError $jsonError\n",
    "\n",
    "                    if ($lastCommaTailRepair) {\n",
    "                        $RepairedJson += $lastCommaTailRepair\n",
    "                    } else {\n",
    "                        $notRepairedJson = [pscustomobject]@{\n",
    "                            promptHash = $promptHash\n",
    "                            content = $content\n",
    "                            prompt = $prompt\n",
    "                            jsonError = $jsonError\n",
    "                        }\n",
    "\n",
    "                        $RepairFailures += $notRepairedJson\n",
    "                    }\n",
    "                }\n",
    "\n",
    "                \"*`' is an invalid start of a value.*\" {\n",
    "                    $repairedMarkdownFense = RepairWith-RemoveMarkdownFense -promptHash $promptHash -content $content -prompt $prompt -jsonError $jsonError\n",
    "                    \n",
    "                    if ($repairedMarkdownFense) {\n",
    "                        if($repairedMarkdownFense.repairedByRemoveMarkdownFense -eq $true) {\n",
    "                            $RepairedJson += $repairedMarkdownFense\n",
    "                        } else {\n",
    "                            \n",
    "                            $nonDestructiveTailRepair = RepairWith-NonDestructiveTail -promptHash $promptHash -content $repairedMarkdownFense.repairedMarkdown -prompt $prompt -jsonError $jsonError\n",
    "\n",
    "                            if ($nonDestructiveTailRepair) {\n",
    "\n",
    "                                $RepairedJson += [PSCustomObject]@{\n",
    "                                    promptHash = $promptHash\n",
    "                                    content = $content\n",
    "                                    prompt = $prompt\n",
    "                                    jsonError = $jsonError\n",
    "                                    repairedByNonDestructiveTail = $nonDestructiveTailRepair.repairedByNonDestructiveTail\n",
    "                                    repairedJson = $nonDestructiveTailRepair.repairedJson\n",
    "                                    appliedRemoveMarkdownFense = $repairedMarkdownFense.appliedRemoveMarkdownFense\n",
    "                                    repairedByRemoveMarkdownFense = $repairedMarkdownFense.repairedByRemoveMarkdownFense\n",
    "                                    repairedMarkdown = $repairedMarkdownFense.repairedMarkdown\n",
    "                                }\n",
    "                            } else {\n",
    "                                $lastCommaTailRepair = RepairWith-LastCommaTail -promptHash $promptHash -content $repairedMarkdownFense.repairedMarkdown -prompt $prompt -jsonError $jsonError\n",
    "\n",
    "                                if ($lastCommaTailRepair) {\n",
    "                                    $RepairedJson += [PSCustomObject]@{\n",
    "                                        promptHash = $promptHash\n",
    "                                        content = $content\n",
    "                                        prompt = $prompt\n",
    "                                        jsonError = $jsonError\n",
    "                                        repairedByLastCommaTail = $lastCommaTailRepair.repairedByLastCommaTail\n",
    "                                        repairedJson = $lastCommaTailRepair.repairedJson\n",
    "                                        parts = $lastCommaTailRepair.parts\n",
    "                                        before = $lastCommaTailRepair.before\n",
    "                                        after = $lastCommaTailRepair.after\n",
    "                                        appliedRemoveMarkdownFense = $repairedMarkdownFense.appliedRemoveMarkdownFense\n",
    "                                        repairedByRemoveMarkdownFense = $repairedMarkdownFense.repairedByRemoveMarkdownFense\n",
    "                                        repairedMarkdown = $repairedMarkdownFense.repairedMarkdown\n",
    "                                    }\n",
    "                                } else {\n",
    "                                    $notRepairedJson = [pscustomobject]@{\n",
    "                                        promptHash = $promptHash\n",
    "                                        content = $content\n",
    "                                        prompt = $prompt\n",
    "                                        jsonError = $jsonError\n",
    "                                    }\n",
    "\n",
    "                                    $RepairFailures += $notRepairedJson\n",
    "                                }\n",
    "                            }\n",
    "                        }\n",
    "                    } else {\n",
    "                        $notRepairedJson = [pscustomobject]@{\n",
    "                            promptHash = $promptHash\n",
    "                            content = $content\n",
    "                            prompt = $prompt\n",
    "                            jsonError = $jsonError\n",
    "                        }\n",
    "\n",
    "                        $RepairFailures += $notRepairedJson\n",
    "                    }\n",
    "                \n",
    "                }\n",
    "\n",
    "                \"*}' is invalid after a property name. Expected a ':*\" {\n",
    "                    $repairedJsonLineArray = RepairWith-JsonLineArray -promptHash $promptHash -content $content -prompt $prompt -jsonError $jsonError\n",
    "\n",
    "                    if ($repairedJsonLineArray) {\n",
    "                        if($repairedJsonLineArray.repairedByJsonLineArrayFix -eq $true) {\n",
    "                            $RepairedJson += $repairedJsonLineArray\n",
    "                        } else {\n",
    "                            $nonDestructiveTailRepair = RepairWith-NonDestructiveTail -promptHash $promptHash -content $repairedJsonLineArray.repairedArray -prompt $prompt -jsonError $jsonError\n",
    "\n",
    "                            if ($nonDestructiveTailRepair) {\n",
    "\n",
    "                                $RepairedJson += [PSCustomObject]@{\n",
    "                                    promptHash = $promptHash\n",
    "                                    content = $content\n",
    "                                    prompt = $prompt\n",
    "                                    jsonError = $jsonError\n",
    "                                    repairedByNonDestructiveTail = $nonDestructiveTailRepair.repairedByNonDestructiveTail\n",
    "                                    repairedJson = $nonDestructiveTailRepair.repairedJson\n",
    "                                    appliedJsonLineArrayFix = $repairedJsonLineArray.appliedRemoveMarkdownFense\n",
    "                                    repairedByJsonLineArrayFix = $repairedJsonLineArray.repairedByRemoveMarkdownFense\n",
    "                                    repairedArray = $repairedJsonLineArray.repairedMarkdown\n",
    "                                }\n",
    "                            } else {\n",
    "                                $lastCommaTailRepair = RepairWith-LastCommaTail -promptHash $promptHash -content $repairedJsonLineArray.repairedArray -prompt $prompt -jsonError $jsonError\n",
    "\n",
    "                                if ($lastCommaTailRepair) {\n",
    "                                    $RepairedJson += [PSCustomObject]@{\n",
    "                                        promptHash = $promptHash\n",
    "                                        content = $content\n",
    "                                        prompt = $prompt\n",
    "                                        jsonError = $jsonError\n",
    "                                        repairedByLastCommaTail = $lastCommaTailRepair.repairedByLastCommaTail\n",
    "                                        repairedJson = $lastCommaTailRepair.repairedJson\n",
    "                                        parts = $lastCommaTailRepair.parts\n",
    "                                        before = $lastCommaTailRepair.before\n",
    "                                        after = $lastCommaTailRepair.after\n",
    "                                        appliedJsonLineArrayFix = $repairedJsonLineArray.appliedRemoveMarkdownFense\n",
    "                                        repairedByJsonLineArrayFix = $repairedJsonLineArray.repairedByRemoveMarkdownFense\n",
    "                                        repairedArray = $repairedJsonLineArray.repairedMarkdown\n",
    "                                    }\n",
    "                                } else {\n",
    "                                    $notRepairedJson = [pscustomobject]@{\n",
    "                                        promptHash = $promptHash\n",
    "                                        content = $content\n",
    "                                        prompt = $prompt\n",
    "                                        jsonError = $jsonError\n",
    "                                    }\n",
    "\n",
    "                                    $RepairFailures += $notRepairedJson\n",
    "                                }\n",
    "                            }\n",
    "                        }\n",
    "                    } else {\n",
    "                        $notRepairedJson = [pscustomobject]@{\n",
    "                            promptHash = $promptHash\n",
    "                            content = $content\n",
    "                            prompt = $prompt\n",
    "                            jsonError = $jsonError\n",
    "                        }\n",
    "\n",
    "                        $RepairFailures += $notRepairedJson\n",
    "                    }\n",
    "                }\n",
    "\n",
    "                default {\n",
    "                    $notRepairedJson = [pscustomobject]@{\n",
    "                        promptHash = $promptHash\n",
    "                        content = $content\n",
    "                        prompt = $prompt\n",
    "                        jsonError = $jsonError\n",
    "                    }\n",
    "\n",
    "                    $RepairFailures += $notRepairedJson\n",
    "                }\n",
    "            }\n",
    "        }\n",
    "    }\n",
    "    if ($invalidJson.Count -eq $RepairedJson.Count) {\n",
    "        Write-Host \"Repaired $($RepairedJson.Count)/$($invalidJson.Count) of invalid json objects.\"\n",
    "        Write-Host \"Repaired $($RepairedJson.Count)/$($validJson.Count + $invalidJson.Count) of total json objects.\"\n",
    "    }\n",
    "\n",
    "    return $RepairedJson, $RepairFailures\n",
    "}\n"
   ]
  },
  {
   "cell_type": "markdown",
   "metadata": {},
   "source": [
    "#### Review Results"
   ]
  },
  {
   "cell_type": "code",
   "execution_count": 60,
   "metadata": {
    "dotnet_interactive": {
     "language": "pwsh"
    },
    "polyglot_notebook": {
     "kernelName": "pwsh"
    },
    "vscode": {
     "languageId": "polyglot-notebook"
    }
   },
   "outputs": [],
   "source": [
    "\n",
    "function Generate-ContinuePrompts {\n",
    "    param(\n",
    "        [Parameter(Mandatory = $true)]\n",
    "        $repairedJson\n",
    "    )\n",
    "\n",
    "    $trunkatedCompletions = $repairedJson | Where-Object { \n",
    "        $_.PSObject.Properties['repairedByNonDestructiveTail'] -ne $null -or \n",
    "        $_.PSObject.Properties['repairedByLastCommaTail'] -ne $null \n",
    "    }\n",
    "\n",
    "\n",
    "    $prompts = @()\n",
    "    $propertyName = \"continuePrompt\"\n",
    "    $mdFenceRepairedCompletions = $trunkatedCompletions | Where-Object {\n",
    "        $_.PSObject.Properties['appliedRemoveMarkdownFense'] -ne $null\n",
    "    }\n",
    "    foreach ($completion in $mdFenceRepairedCompletions) {\n",
    "        $continueCompletion = @{}\n",
    "        foreach ($property in $completion.PSObject.Properties) {\n",
    "            $continueCompletion[$property.Name] = $property.Value\n",
    "        }\n",
    "        $continuePrompt = (@($completion.prompt, \"### Reply\", $completion.repairedMarkdown, \"`ncontinue`n\") -join \"`n`n\")\n",
    "        $continueCompletion[$propertyName] = $continuePrompt\n",
    "\n",
    "        $prompts += [PSCustomObject]$continueCompletion\n",
    "    }\n",
    "\n",
    "    $arrayRepairedCompletions = $trunkatedCompletions | Where-Object {\n",
    "        $_.PSObject.Properties['appliedJsonLineArrayFix'] -ne $null\n",
    "    }\n",
    "    foreach ($completion in $arrayRepairedCompletions) {\n",
    "        $continueCompletion = @{}\n",
    "        foreach ($property in $completion.PSObject.Properties) {\n",
    "            $continueCompletion[$property.Name] = $property.Value\n",
    "        }\n",
    "        $continuePrompt = (@($completion.prompt, \"### Reply\", $completion.repairedArray, \"`ncontinue`n\") -join \"`n`n\")\n",
    "        $continueCompletion[$propertyName] = $continuePrompt\n",
    "\n",
    "        $prompts += [PSCustomObject]$continueCompletion\n",
    "    }\n",
    "\n",
    "    $lastCommaRepairedCompletions = $trunkatedCompletions | Where-Object {\n",
    "        ($_.PSObject.Properties['repairedByNonDestructiveTail'] -eq $null) -and\n",
    "        ($mdFenceRepairedCompletions -notcontains $_) -and\n",
    "        ($arrayRepairedCompletions -notcontains $_)\n",
    "    }\n",
    "    foreach ($completion in $lastCommaRepairedCompletions) {\n",
    "        $continueCompletion = @{}\n",
    "        foreach ($property in $completion.PSObject.Properties) {\n",
    "            $continueCompletion[$property.Name] = $property.Value\n",
    "        }\n",
    "        $continuePrompt = (@($completion.prompt, \"### Reply\", $completion.before, \"`ncontinue`n\") -join \"`n`n\")\n",
    "        $continueCompletion[$propertyName] = $continuePrompt\n",
    "\n",
    "        $prompts += [PSCustomObject]$continueCompletion\n",
    "    }\n",
    "\n",
    "    $nonDestructiveRepairedCompletions = $trunkatedCompletions | Where-Object {\n",
    "        ($_.PSObject.Properties['repairedByLastCommaTail'] -eq $null) -and\n",
    "        ($mdFenceRepairedCompletions -notcontains $_) -and\n",
    "        ($arrayRepairedCompletions -notcontains $_)\n",
    "    }\n",
    "    foreach ($completion in $nonDestructiveRepairedCompletions){\n",
    "        $continueCompletion = @{}\n",
    "        foreach ($property in $completion.PSObject.Properties) {\n",
    "            $continueCompletion[$property.Name] = $property.Value\n",
    "        }\n",
    "        $continuePrompt = (@($completion.prompt, \"### Reply\", $completion.content, \"`n(continue)`n\") -join \"`n`n\")\n",
    "        $continueCompletion[$propertyName] = $continuePrompt\n",
    "\n",
    "        $prompts += [PSCustomObject]$continueCompletion\n",
    "    }\n",
    "    return $prompts\n",
    "}\n"
   ]
  },
  {
   "cell_type": "code",
   "execution_count": 61,
   "metadata": {
    "dotnet_interactive": {
     "language": "pwsh"
    },
    "polyglot_notebook": {
     "kernelName": "pwsh"
    },
    "vscode": {
     "languageId": "polyglot-notebook"
    }
   },
   "outputs": [],
   "source": [
    "function Get-Gpt4oContinueCompletions {\n",
    "    param (\n",
    "        [Parameter(Mandatory = $true)]\n",
    "        $storedObjectPath,\n",
    "\n",
    "        [Parameter(Mandatory = $true)]\n",
    "        $prompts,\n",
    "\n",
    "        $responseCount = 0\n",
    "    )\n",
    "\n",
    "    \n",
    "    $completionsEndpoint = \"https://api.openai.com/v1/chat/completions\"\n",
    "\n",
    "    $object = Get-StoredObject -ObjectName \"OpenAiContinueCompletions\" -Path $storedObjectPath\n",
    "    if ($object) {\n",
    "        $allResults = $object\n",
    "    } else {\n",
    "        $openAiApiCreds = Get-StoredCredential -CredentialName \"openAiApiCreds\" -Path \".\\StoredCredentials\"\n",
    "        \n",
    "        $jobs = @()\n",
    "        $count = 0\n",
    "        foreach ($prompt in $prompts) {\n",
    "            $count++\n",
    "            $jobs += Start-ThreadJob -ScriptBlock{\n",
    "                param($prompt, $completionsEndpoint, $openAiApiCreds, $chatgpt4oId, $headers, $storedObjectPath)\n",
    "                . \".\\Powershell\\Get-StoredObject.ps1\" | Out-Null\n",
    "\n",
    "                $headers = @{\n",
    "                    \"Authorization\" = \"Bearer $($openAiApiCreds.GetNetworkCredential().Password)\"\n",
    "                    \"Content-Type\" = \"application/json\"\n",
    "                }\n",
    "                $promptHash = [System.BitConverter]::ToString([System.Security.Cryptography.SHA256]::Create().ComputeHash([System.Text.Encoding]::UTF8.GetBytes($prompt.continuePrompt))).Replace(\"-\", \"\")\n",
    "                $completion = Get-StoredObject -ObjectName $promptHash -Path \"$storedObjectPath\\Completions\\Continue\"\n",
    "\n",
    "                if ($completion) {\n",
    "                    return $completion\n",
    "                } else {\n",
    "                    $requestBody = @{\n",
    "                        model = $chatgpt4oId\n",
    "                        messages = @(\n",
    "                            @{\n",
    "                                role = \"user\"\n",
    "                                content = $prompt.continuePrompt\n",
    "                            }\n",
    "                        )\n",
    "                        temperature = 0.7\n",
    "                        max_tokens = 1024\n",
    "                        top_p = 0.9\n",
    "                        frequency_penalty = 0.0\n",
    "                    } | ConvertTo-Json -Depth 6 -Compress\n",
    "\n",
    "                    Start-Sleep -Seconds 15\n",
    "                    $completion = Invoke-RestMethod -Uri $completionsEndpoint -Method Post -Headers $headers -Body $requestBody\n",
    "                    \n",
    "                    $continueCompletion = @{}\n",
    "                    foreach ($property in $prompt.PSObject.Properties) {\n",
    "                        $continueCompletion[$property.Name] = $property.Value\n",
    "                    }\n",
    "                    $continueCompletion[\"continueContent\"] = @(,$completion.choices[0].message.content)\n",
    "\n",
    "                    $return = [PSCustomObject]$continueCompletion\n",
    "                    Get-StoredObject -ObjectName $promptHash -Path \"$storedObjectPath\\Completions\\Continue\" -InputObject $return\n",
    "                    return $return\n",
    "                }\n",
    "\n",
    "            } -ArgumentList $prompt, $completionsEndpoint, $openAiApiCreds, (Get-Gpt4oLatestModel), $headers, $storedObjectPath\n",
    "            \n",
    "            Start-Sleep -Seconds 15\n",
    "            if($responseCount -gt 0){\n",
    "                if ($count -gt ($responseCount - 1)){break}\n",
    "            }\n",
    "        }\n",
    "\n",
    "        $allResults = @()\n",
    "        foreach ($job in $jobs) {\n",
    "            $completions = Receive-Job -Job $job -Wait\n",
    "            if ($completions) {\n",
    "                foreach ($result in $completions){\n",
    "                    $allResults += $result\n",
    "                    \n",
    "                }\n",
    "            }\n",
    "            Remove-Job -Job $job\n",
    "        }\n",
    "        \n",
    "        Get-StoredObject -ObjectName \"OpenAiContinueCompletions\" -Path $storedObjectPath -InputObject $allResults\n",
    "        \n",
    "    }\n",
    "\n",
    "    return $allResults\n",
    "}\n"
   ]
  },
  {
   "cell_type": "code",
   "execution_count": null,
   "metadata": {
    "dotnet_interactive": {
     "language": "pwsh"
    },
    "polyglot_notebook": {
     "kernelName": "pwsh"
    },
    "vscode": {
     "languageId": "polyglot-notebook"
    }
   },
   "outputs": [
    {
     "name": "stdout",
     "output_type": "stream",
     "text": [
      "\n",
      "\n"
     ]
    },
    {
     "data": {
      "text/plain": []
     },
     "metadata": {},
     "output_type": "display_data"
    },
    {
     "name": "stdout",
     "output_type": "stream",
     "text": [
      "\n",
      "\n",
      "\n",
      "\n",
      "\n",
      "\n",
      "\n",
      "\n",
      "\n",
      "\n",
      "\n",
      "\n",
      "\n",
      "\n",
      "\n",
      "\n",
      "\n",
      "\n",
      "\n",
      "\n",
      "\n",
      "\n",
      "\n",
      "\n",
      "\n",
      "\n",
      "\n",
      "\n",
      "\n",
      "\n",
      "\n",
      "\n",
      "\n",
      "\n",
      "\n",
      "\n",
      "\n",
      "\n",
      "\n",
      "\n",
      "\n",
      "\n",
      "\n",
      "\n",
      "\n",
      "\n",
      "\n",
      "\n",
      "\n",
      "\n",
      "\n",
      "\n",
      "\n",
      "\n",
      "\n",
      "\n",
      "\n",
      "\n",
      "\n",
      "\n",
      "\n",
      "\n",
      "\n",
      "\n",
      "\n",
      "\n",
      "\n",
      "\n",
      "\n",
      "\n",
      "\n",
      "\n",
      "\n",
      "\n",
      "\n",
      "\n",
      "\n",
      "\n",
      "\n",
      "\n",
      "\n",
      "\n",
      "\n",
      "\n",
      "\n",
      "\n",
      "\n",
      "\n",
      "\n",
      "\n",
      "\n",
      "\n",
      "\n",
      "\n",
      "\n",
      "\n",
      "\n",
      "\n",
      "\n",
      "\n",
      "\n",
      "\n",
      "\n",
      "\n",
      "\n",
      "\n",
      "\n",
      "\n",
      "\n",
      "\n",
      "\n",
      "\n",
      "\n",
      "\n",
      "\n",
      "\n",
      "\n",
      "\n",
      "\n",
      "\n",
      "\n",
      "\n",
      "\n",
      "\n",
      "\n",
      "\n",
      "\n",
      "\n",
      "\n",
      "\n",
      "\n",
      "\n",
      "\n",
      "\n",
      "\n",
      "\n",
      "\n",
      "\n",
      "\n",
      "\n",
      "\n",
      "\n",
      "\n",
      "\n",
      "\n",
      "\n",
      "\n",
      "\n",
      "\n",
      "\n",
      "\n",
      "\n",
      "\n",
      "\n",
      "\n",
      "\n",
      "\n",
      "\n",
      "\n",
      "\n",
      "\n",
      "\n",
      "\n",
      "\n",
      "\n",
      "\n"
     ]
    }
   ],
   "source": [
    "$csvObjects = Import-ActivityWatchCSVs -activitywatchDirectory \".\\activitywatch_exports\"\n",
    "$csvObjects = Repair-ChildActivityWatchObsidianCSV -csvObjects $csvObjects\n",
    "$csvObjects = Filter-ActivityWatchByAfkStatus -activityWatchCSVsObject $csvObjects -storeObjectPath \".\\StoredObjects\\ActivityWatch\" -afkCSVsDirectory \".\\activitywatch_exports_afk\"\n",
    "$sortedDateRanges = Get-SortedDateRanges -startDateTime ([datetime]::ParseExact(\"24-09-04\", \"yy-MM-dd\", $null)) -endDateTime ([datetime]::Today)\n",
    "$csvObjects = Add-DattoRemoteActivityCSVs -dattoUserId \"99708\" -storedObjectPath \".\\StoredObjects\\datto\" -csvObjects $csvObjects -dateRangesObject $sortedDateRanges\n",
    "$csvObjects = Convert-OfficeOnlineCalendarEvents -startDateTime ([datetime]::ParseExact(\"24-09-04\", \"yy-MM-dd\", $null)) -endDateTime ([datetime]::Today) -csvObjects $csvObjects -storedObjectPath \".\\StoredObjects\\Microsoft\" -dateRangesObject $sortedDateRanges -userId \"david@avartec.com\"\n",
    "$csvObjects = Convert-OfficeOnlineSentEmails -startDateTime ([datetime]::ParseExact(\"24-09-04\", \"yy-MM-dd\", $null)) -endDateTime ([datetime]::Today) -csvObjects $csvObjects -storedObjectPath \".\\StoredObjects\\Microsoft\" -dateRangesObject $sortedDateRanges -userId \"david@avartec.com\"\n",
    "$csvObjects = Convert-OfficeOnlineTeamsChatMessages -startDateTime ([datetime]::ParseExact(\"24-09-04\", \"yy-MM-dd\", $null)) -endDateTime ([datetime]::Today) -csvObjects $csvObjects -storedObjectPath \".\\StoredObjects\\Microsoft\" -userId \"david@avartec.com\"\n",
    "$csvObjects = Remove-ZeroDurationEntries -csvObjects $csvObjects\n",
    "$csvObjects, $mergedRows = Merge-CsvContentToRows -csvObjects $csvObjects\n",
    "$standardizedCsvData = ConvertTo-StandardCSVFormat -rows $mergedRows -email \"david@avartec.com\"\n",
    "$dataGroups = Sort-RowsIntoGroupsByDay -maxCharacterCountByBlock 55000 -maxCharacterCountHumble 1.5 -maxBlockSizeKB 10000 -standardizedCsvData $standardizedCsvData\n",
    "$prompts = Generate-Prompts -fileBaseName \"time_entries\" -groups $dataGroups\n",
    "\n",
    "\n",
    "# $completions = Get-Gpt4oCompletions -storedObjectPath \".\\StoredObjects\\OpenAi\" -prompts $prompts # -responseCount 1\n",
    "# $validJsonCompletions, $invalidJsonCompletions = Group-ValidJsonCompletions -jsonCompletions $completions\n",
    "# $repairedJson, $repairFailures = Repair-JsonCompletions -invalidJson $invalidJsonCompletions\n",
    "# $continuePrompts = Generate-ContinuePrompts -repairedJson $repairedJson\n",
    "# $continueCompletions = Get-Gpt4oContinueCompletions -storedObjectPath \".\\StoredObjects\\OpenAi\" -prompts $continuePrompts # -responseCount 1\n"
   ]
  },
  {
   "cell_type": "code",
   "execution_count": null,
   "metadata": {
    "dotnet_interactive": {
     "language": "pwsh"
    },
    "polyglot_notebook": {
     "kernelName": "pwsh"
    },
    "vscode": {
     "languageId": "polyglot-notebook"
    }
   },
   "outputs": [],
   "source": [
    "Write-Host \"Collected Data Objects: $($csvObjects.Count)\"\n",
    "Write-Host \"Rows Merged from collected data objects: $($mergedRows.Count)\"\n",
    "Write-Host \"Rows of Standardized Columnar Data: $($standardizedCsvData.Count)\"\n",
    "Write-Host \"Days of Collection: $($dataGroups.Count)\"\n",
    "Write-host \"Number of Prompts to Send: $($prompts.Count)\"\n",
    "# Write-Host \"Number of Completions Recieved: $($completions.Count)\"\n",
    "# Write-Host \"Count of Valid Json completion responses on reciept: $($validJsonCompletions.Count)\"\n",
    "# Write-Host \"Count of Invalid Json completion responses on reciept: $($invalidJsonCompletions.Count)\"\n",
    "# Write-Host \"Count of Invalid Json that was able to be repaired: $($repairedJson.Count)\"\n",
    "# Write-Host \"Count of Invalid Json that was NOT able to be repaired: $($repairFailures.Count)\"\n",
    "# Write-host \"Number of Continue Prompts for truncated completions to be requested: $($continuePrompts.Count)\"\n",
    "# Write-Host \"Number of Continue Completions Recieved: $($continueCompletions.Count)\"\n"
   ]
  },
  {
   "cell_type": "code",
   "execution_count": null,
   "metadata": {
    "dotnet_interactive": {
     "language": "pwsh"
    },
    "polyglot_notebook": {
     "kernelName": "pwsh"
    },
    "vscode": {
     "languageId": "polyglot-notebook"
    }
   },
   "outputs": [],
   "source": [
    "$prompts[0]\n"
   ]
  },
  {
   "cell_type": "code",
   "execution_count": null,
   "metadata": {
    "dotnet_interactive": {
     "language": "pwsh"
    },
    "polyglot_notebook": {
     "kernelName": "pwsh"
    },
    "vscode": {
     "languageId": "polyglot-notebook"
    }
   },
   "outputs": [],
   "source": [
    "# $continueCompletions[100].before\n",
    "foreach ($completion in $continueCompletions) {\n",
    "    $first = ($completion.continueContent[0][0..6]) -join \"\"\n",
    "\n",
    "    $switch = $first -replace '\\s+', ''\n",
    "    \n",
    "    $break = $false\n",
    "    switch ($switch) {\n",
    "        \"[{\" {\n",
    "\n",
    "            $completion.before\n",
    "            write-host \"---------------------------------------------\"\n",
    "            $completion.continueContent[0]\n",
    "\n",
    "            $sample = $completion\n",
    "            $break = $true\n",
    "            break\n",
    "        }\n",
    "\n",
    "        \"``````json\" {\n",
    "\n",
    "        }\n",
    "\n",
    "        \"{\" {}\n",
    "\n",
    "        \"[\" {\n",
    "\n",
    "        }\n",
    "\n",
    "        \"\" {\n",
    "\n",
    "        }\n",
    "\n",
    "        default {\n",
    "        }\n",
    "    }\n",
    "    if($break) {break}\n",
    "}\n"
   ]
  },
  {
   "cell_type": "code",
   "execution_count": null,
   "metadata": {
    "dotnet_interactive": {
     "language": "pwsh"
    },
    "polyglot_notebook": {
     "kernelName": "pwsh"
    },
    "vscode": {
     "languageId": "polyglot-notebook"
    }
   },
   "outputs": [],
   "source": [
    "$sample | Get-Member -MemberType NoteProperty | Select-Object -ExpandProperty Name\n"
   ]
  }
 ],
 "metadata": {
  "kernelspec": {
   "display_name": ".NET (C#)",
   "language": "C#",
   "name": ".net-csharp"
  },
  "language_info": {
   "name": "python"
  },
  "polyglot_notebook": {
   "kernelInfo": {
    "defaultKernelName": "csharp",
    "items": [
     {
      "aliases": [],
      "name": "csharp"
     },
     {
      "aliases": [],
      "languageName": "python",
      "name": "pythonkernel"
     }
    ]
   }
  }
 },
 "nbformat": 4,
 "nbformat_minor": 2
}
